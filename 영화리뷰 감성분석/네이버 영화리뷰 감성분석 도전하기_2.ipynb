{
 "cells": [
  {
   "cell_type": "markdown",
   "metadata": {},
   "source": [
    "# 네이버 영화리뷰 감성분석을 해보자!!"
   ]
  },
  {
   "cell_type": "code",
   "execution_count": null,
   "metadata": {},
   "outputs": [],
   "source": []
  },
  {
   "cell_type": "markdown",
   "metadata": {},
   "source": [
    "## 고려해야 할 사항\n",
    "프로젝트 진행 순서는 다음과 같습니다.   \n",
    "##### 1) 데이터 준비와 확인  \n",
    "\n",
    "##### 2) 데이터로더 구성  \n",
    "실습때 다루었던 IMDB 데이터셋은 텍스트를 가공하여 imdb.data_loader() 메소드를 호출하면    \n",
    "숫자 인덱스로 변환된 텍스트와 word_to_index 딕셔너리까지 친절하게 제공합니다.    \n",
    "그러나 이번에 다루게 될 nsmc 데이터셋은 전혀 가공되지 않은 텍스트 파일로 이루어져 있습니다.    \n",
    "이것을 읽어서 imdb.data_loader()와 동일하게 동작하는 자신만의 data_loader를 만들어 보는 것으로 시작합니다.   \n",
    "data_loader 안에서는 다음을 수행해야 합니다.   \n",
    "\n",
    "- 데이터의 중복 제거\n",
    "- NaN 결측치 제거\n",
    "- 한국어 토크나이저로 토큰화\n",
    "- 불용어(Stopwords) 제거\n",
    "- 사전word_to_index 구성\n",
    "- 텍스트 스트링을 사전 인덱스 스트링으로 변환\n",
    "- X_train, y_train, X_test, y_test, word_to_index 리턴\n",
    "\n",
    "##### 3) 모델구성을 위한 데이터 분석 및 가공  \n",
    "- 데이터셋 내 문장 길이 분포\n",
    "- 적절한 최대 문장 길이 지정\n",
    "- keras.preprocessing.sequence.pad_sequences 을 활용한 패딩 추가\n",
    "\n",
    "##### 4) 모델구성 및 validation set 구성\n",
    "- 모델은 3가지 이상 다양하게 구성하여 실험해 보세요.\n",
    "\n",
    "##### 5) 모델 훈련 개시  \n",
    "\n",
    "##### 6) Loss, Accuracy 그래프 시각화  \n",
    "\n",
    "##### 7) 학습된 Embedding 레이어 분석   \n",
    "\n",
    "##### 8) 한국어 Word2Vec 임베딩 활용하여 성능개선   \n",
    "한국어 Word2Vec은 다음 경로에서 구할 수 있습니다.\n",
    "\n",
    "https://github.com/Kyubyong/wordvectors"
   ]
  },
  {
   "cell_type": "code",
   "execution_count": 1,
   "metadata": {},
   "outputs": [
    {
     "data": {
      "text/html": [
       "<div>\n",
       "<style scoped>\n",
       "    .dataframe tbody tr th:only-of-type {\n",
       "        vertical-align: middle;\n",
       "    }\n",
       "\n",
       "    .dataframe tbody tr th {\n",
       "        vertical-align: top;\n",
       "    }\n",
       "\n",
       "    .dataframe thead th {\n",
       "        text-align: right;\n",
       "    }\n",
       "</style>\n",
       "<table border=\"1\" class=\"dataframe\">\n",
       "  <thead>\n",
       "    <tr style=\"text-align: right;\">\n",
       "      <th></th>\n",
       "      <th>id</th>\n",
       "      <th>document</th>\n",
       "      <th>label</th>\n",
       "    </tr>\n",
       "  </thead>\n",
       "  <tbody>\n",
       "    <tr>\n",
       "      <th>0</th>\n",
       "      <td>9976970</td>\n",
       "      <td>아 더빙.. 진짜 짜증나네요 목소리</td>\n",
       "      <td>0</td>\n",
       "    </tr>\n",
       "    <tr>\n",
       "      <th>1</th>\n",
       "      <td>3819312</td>\n",
       "      <td>흠...포스터보고 초딩영화줄....오버연기조차 가볍지 않구나</td>\n",
       "      <td>1</td>\n",
       "    </tr>\n",
       "    <tr>\n",
       "      <th>2</th>\n",
       "      <td>10265843</td>\n",
       "      <td>너무재밓었다그래서보는것을추천한다</td>\n",
       "      <td>0</td>\n",
       "    </tr>\n",
       "  </tbody>\n",
       "</table>\n",
       "</div>"
      ],
      "text/plain": [
       "         id                           document  label\n",
       "0   9976970                아 더빙.. 진짜 짜증나네요 목소리      0\n",
       "1   3819312  흠...포스터보고 초딩영화줄....오버연기조차 가볍지 않구나      1\n",
       "2  10265843                  너무재밓었다그래서보는것을추천한다      0"
      ]
     },
     "metadata": {},
     "output_type": "display_data"
    },
    {
     "data": {
      "text/html": [
       "<div>\n",
       "<style scoped>\n",
       "    .dataframe tbody tr th:only-of-type {\n",
       "        vertical-align: middle;\n",
       "    }\n",
       "\n",
       "    .dataframe tbody tr th {\n",
       "        vertical-align: top;\n",
       "    }\n",
       "\n",
       "    .dataframe thead th {\n",
       "        text-align: right;\n",
       "    }\n",
       "</style>\n",
       "<table border=\"1\" class=\"dataframe\">\n",
       "  <thead>\n",
       "    <tr style=\"text-align: right;\">\n",
       "      <th></th>\n",
       "      <th>id</th>\n",
       "      <th>document</th>\n",
       "      <th>label</th>\n",
       "    </tr>\n",
       "  </thead>\n",
       "  <tbody>\n",
       "    <tr>\n",
       "      <th>0</th>\n",
       "      <td>6270596</td>\n",
       "      <td>굳 ㅋ</td>\n",
       "      <td>1</td>\n",
       "    </tr>\n",
       "    <tr>\n",
       "      <th>1</th>\n",
       "      <td>9274899</td>\n",
       "      <td>GDNTOPCLASSINTHECLUB</td>\n",
       "      <td>0</td>\n",
       "    </tr>\n",
       "    <tr>\n",
       "      <th>2</th>\n",
       "      <td>8544678</td>\n",
       "      <td>뭐야 이 평점들은.... 나쁘진 않지만 10점 짜리는 더더욱 아니잖아</td>\n",
       "      <td>0</td>\n",
       "    </tr>\n",
       "  </tbody>\n",
       "</table>\n",
       "</div>"
      ],
      "text/plain": [
       "        id                                document  label\n",
       "0  6270596                                     굳 ㅋ      1\n",
       "1  9274899                    GDNTOPCLASSINTHECLUB      0\n",
       "2  8544678  뭐야 이 평점들은.... 나쁘진 않지만 10점 짜리는 더더욱 아니잖아      0"
      ]
     },
     "metadata": {},
     "output_type": "display_data"
    }
   ],
   "source": [
    "# 1) 데이터 준비와 확인\n",
    "\n",
    "# 패키지 설치 // 아마도 이거를 고려하면서 코드를 짜면 되지 않을까?!\n",
    "import pandas as pd\n",
    "import urllib.request\n",
    "%matplotlib inline\n",
    "import matplotlib.pyplot as plt\n",
    "import re\n",
    "from konlpy.tag import Okt\n",
    "from tensorflow import keras\n",
    "from tensorflow.keras.preprocessing.text import Tokenizer\n",
    "import numpy as np\n",
    "from tensorflow.keras.preprocessing.sequence import pad_sequences\n",
    "from collections import Counter\n",
    "\n",
    "# 데이터를 읽어봅시다. \n",
    "train_data = pd.read_table('~/aiffel/sentiment_classification/ratings_train.txt')\n",
    "test_data = pd.read_table('~/aiffel/sentiment_classification/ratings_test.txt')\n",
    "\n",
    "display(train_data.head(3))\n",
    "display(test_data.head(3))\n"
   ]
  },
  {
   "cell_type": "code",
   "execution_count": 2,
   "metadata": {},
   "outputs": [
    {
     "name": "stdout",
     "output_type": "stream",
     "text": [
      "[32, 74, 919, 4, 4, 39, 228, 20, 33, 748]\n",
      "라벨:  0\n",
      "1번째 리뷰 문장 길이:  10\n",
      "2번째 리뷰 문장 길이:  17\n"
     ]
    }
   ],
   "source": [
    "# 2) 데이터로더 구성\n",
    "\n",
    "from konlpy.tag import Mecab\n",
    "tokenizer = Mecab() # 토크나이저는 메캅!! 메칸더 메칸더 메칸더 브이\n",
    "\n",
    "# 불용어 선언 / 조사와 용언 등\n",
    "stopwords = ['의','가','이','은','들','는','좀','잘','걍','과','도','를','으로','자','에','와','한','하다']\n",
    "\n",
    "# 일단 데이터를 불러온 다음에 토크나이징을 해야지!! 우선 불러와봅시다!!\n",
    "def load_data(train_data, test_data, num_words=10000):\n",
    "    train_data.drop_duplicates(subset=['document'], inplace=True) # document라는 컬럼에서 동일한 것을 제거하는 함수 / 변경사항 적용\n",
    "    train_data = train_data.dropna(how = 'any') # how=any 는 결측치가 하나라도 존재하면 삭제한다는 의미이다.\n",
    "    test_data.drop_duplicates(subset=['document'], inplace=True) # document라는 컬럼에서 동일한 것을 제거하는 함수 / 변경사항 적용\n",
    "    test_data = test_data.dropna(how = 'any') # how=any 는 결측치가 하나라도 존재하면 삭제한다는 의미이다.\n",
    "\n",
    "    # X의 훈련 데이터에는 어떤 것이 들어갈까요\n",
    "    X_train = []\n",
    "    for sentence in train_data['document']: # document라는 곳에서 꺼낸당!\n",
    "        temp_X = tokenizer.morphs(sentence) # 토큰화\n",
    "        temp_X = [word for word in temp_X if not word in stopwords] # 불용어 제거\n",
    "        X_train.append(temp_X)\n",
    "\n",
    "    # X의 테스트 데이터에는 어떤 것이 들어갈까요\n",
    "    X_test = []\n",
    "    for sentence in test_data['document']:# document라는 곳에서 꺼낸당!\n",
    "        temp_X = tokenizer.morphs(sentence) # 토큰화\n",
    "        temp_X = [word for word in temp_X if not word in stopwords] # 불용어 제거\n",
    "        X_test.append(temp_X)\n",
    "\n",
    "    words = np.concatenate(X_train).tolist()\n",
    "    counter = Counter(words)\n",
    "    counter = counter.most_common(10000-4)\n",
    "    vocab = ['<PAD>', '<BOS>', '<UNK>', '<UNUSED>'] + [key for key, _ in counter]\n",
    "    word_to_index = {word:index for index, word in enumerate(vocab)}\n",
    "\n",
    "    def wordlist_to_indexlist(wordlist):\n",
    "        return [word_to_index[word] if word in word_to_index else word_to_index['<UNK>'] for word in wordlist]\n",
    "\n",
    "    X_train = list(map(wordlist_to_indexlist, X_train))\n",
    "    X_test = list(map(wordlist_to_indexlist, X_test))\n",
    "\n",
    "    return X_train, np.array(list(train_data['label'])), X_test, np.array(list(test_data['label'])), word_to_index\n",
    "\n",
    "X_train, y_train, X_test, y_test, word_to_index = load_data(train_data, test_data)\n",
    "\n",
    "print(X_train[0])  # 1번째 리뷰데이터\n",
    "print('라벨: ', y_train[0])  # 1번째 리뷰데이터의 라벨   긍정 :1 / 부정 : 0\n",
    "print('1번째 리뷰 문장 길이: ', len(X_train[0]))\n",
    "print('2번째 리뷰 문장 길이: ', len(X_train[1]))"
   ]
  },
  {
   "cell_type": "code",
   "execution_count": 3,
   "metadata": {},
   "outputs": [
    {
     "name": "stdout",
     "output_type": "stream",
     "text": [
      "문장길이 평균 :  15.969376315021577\n",
      "문장길이 최대 :  116\n",
      "문장길이 표준편차 :  12.843535456326455\n",
      "pad_sequences maxlen :  41\n",
      "전체 문장의 0.9342988343341575%가 maxlen 설정값 이내에 포함됩니다. \n",
      "==================================================\n",
      "(146182, 41)\n"
     ]
    }
   ],
   "source": [
    "# 3) 모델구성을 위한 데이터 분석 및 가공\n",
    "\n",
    "### 적절한 최대 문장 길이를 알아봅시다. \n",
    "total_data_text = list(X_train) + list(X_test)\n",
    "# 텍스트데이터 문장길이의 리스트를 생성한 후\n",
    "num_tokens = [len(tokens) for tokens in total_data_text]\n",
    "num_tokens = np.array(num_tokens)\n",
    "# 문장길이의 평균값, 최대값, 표준편차를 계산해 본다. \n",
    "print('문장길이 평균 : ', np.mean(num_tokens))\n",
    "print('문장길이 최대 : ', np.max(num_tokens))\n",
    "print('문장길이 표준편차 : ', np.std(num_tokens))\n",
    "\n",
    "# 예를들어, 최대 길이를 (평균 + 2*표준편차)로 한다면,  \n",
    "max_tokens = np.mean(num_tokens) + 2 * np.std(num_tokens)\n",
    "maxlen = int(max_tokens)\n",
    "print('pad_sequences maxlen : ', maxlen)\n",
    "print('전체 문장의 {}%가 maxlen 설정값 이내에 포함됩니다. '.format(np.sum(num_tokens < max_tokens) / len(num_tokens)))\n",
    "\n",
    "print(\"==================================================\")\n",
    "\n",
    "### 패딩추가 !\n",
    "X_train = keras.preprocessing.sequence.pad_sequences(X_train,\n",
    "                                                        value=word_to_index[\"<PAD>\"],\n",
    "                                                        padding='pre', # 혹은 'pre'\n",
    "                                                        maxlen=maxlen)\n",
    "\n",
    "X_test = keras.preprocessing.sequence.pad_sequences(X_test,\n",
    "                                                       value=word_to_index[\"<PAD>\"],\n",
    "                                                       padding='pre', # 혹은 'pre'\n",
    "                                                       maxlen=maxlen)\n",
    "\n",
    "print(X_train.shape)"
   ]
  },
  {
   "cell_type": "code",
   "execution_count": 4,
   "metadata": {},
   "outputs": [
    {
     "name": "stdout",
     "output_type": "stream",
     "text": [
      "Model: \"sequential\"\n",
      "_________________________________________________________________\n",
      "Layer (type)                 Output Shape              Param #   \n",
      "=================================================================\n",
      "embedding (Embedding)        (None, None, 32)          320000    \n",
      "_________________________________________________________________\n",
      "conv1d (Conv1D)              (None, None, 16)          3600      \n",
      "_________________________________________________________________\n",
      "max_pooling1d (MaxPooling1D) (None, None, 16)          0         \n",
      "_________________________________________________________________\n",
      "conv1d_1 (Conv1D)            (None, None, 16)          1808      \n",
      "_________________________________________________________________\n",
      "global_max_pooling1d (Global (None, 16)                0         \n",
      "_________________________________________________________________\n",
      "dense (Dense)                (None, 8)                 136       \n",
      "_________________________________________________________________\n",
      "dense_1 (Dense)              (None, 1)                 9         \n",
      "=================================================================\n",
      "Total params: 325,553\n",
      "Trainable params: 325,553\n",
      "Non-trainable params: 0\n",
      "_________________________________________________________________\n",
      "(136182, 41)\n",
      "(136182,)\n"
     ]
    }
   ],
   "source": [
    "# 4) 모델구성 및 validation set 구성\n",
    "\n",
    "# 두번째 \n",
    "vocab_size = 10000  # 어휘 사전의 크기입니다(10개의 단어)\n",
    "word_vector_dim = 32  # 단어 하나를 표현하는 임베딩 벡터의 차원수입니다. \n",
    "\n",
    "model = keras.Sequential()\n",
    "model.add(keras.layers.Embedding(vocab_size, word_vector_dim, input_shape=(None,)))\n",
    "model.add(keras.layers.Conv1D(16, 7, activation='relu'))\n",
    "model.add(keras.layers.MaxPooling1D(5))\n",
    "model.add(keras.layers.Conv1D(16, 7, activation='relu'))\n",
    "model.add(keras.layers.GlobalMaxPooling1D())\n",
    "model.add(keras.layers.Dense(8, activation='relu'))\n",
    "model.add(keras.layers.Dense(1, activation='sigmoid'))  # 최종 출력은 긍정/부정을 나타내는 1dim 입니다.\n",
    "\n",
    "model.summary()\n",
    "\n",
    "# validation set 10000건 분리\n",
    "x_val = X_train[:10000]   \n",
    "y_val = y_train[:10000]\n",
    "\n",
    "# validation set을 제외한 나머지 15000건\n",
    "partial_x_train = X_train[10000:]  \n",
    "partial_y_train = y_train[10000:]\n",
    "\n",
    "print(partial_x_train.shape)\n",
    "print(partial_y_train.shape)"
   ]
  },
  {
   "cell_type": "code",
   "execution_count": 5,
   "metadata": {},
   "outputs": [
    {
     "name": "stdout",
     "output_type": "stream",
     "text": [
      "Epoch 1/20\n",
      "4569/4569 [==============================] - 21s 5ms/step - loss: 0.3684 - accuracy: 0.8327\n",
      "Epoch 2/20\n",
      "4569/4569 [==============================] - 18s 4ms/step - loss: 0.2721 - accuracy: 0.8870\n",
      "Epoch 3/20\n",
      "4569/4569 [==============================] - 18s 4ms/step - loss: 0.2067 - accuracy: 0.9187\n",
      "Epoch 4/20\n",
      "4569/4569 [==============================] - 18s 4ms/step - loss: 0.1512 - accuracy: 0.9435\n",
      "Epoch 5/20\n",
      "4569/4569 [==============================] - 18s 4ms/step - loss: 0.1144 - accuracy: 0.9581\n",
      "Epoch 6/20\n",
      "4569/4569 [==============================] - 18s 4ms/step - loss: 0.0918 - accuracy: 0.9672\n",
      "Epoch 7/20\n",
      "4569/4569 [==============================] - 18s 4ms/step - loss: 0.0762 - accuracy: 0.9729\n",
      "Epoch 8/20\n",
      "4569/4569 [==============================] - 18s 4ms/step - loss: 0.0651 - accuracy: 0.9766\n",
      "Epoch 9/20\n",
      "4569/4569 [==============================] - 18s 4ms/step - loss: 0.0573 - accuracy: 0.9797\n",
      "Epoch 10/20\n",
      "4569/4569 [==============================] - 18s 4ms/step - loss: 0.0510 - accuracy: 0.9815\n",
      "Epoch 11/20\n",
      "4569/4569 [==============================] - 18s 4ms/step - loss: 0.0447 - accuracy: 0.9838\n",
      "Epoch 12/20\n",
      "4569/4569 [==============================] - 18s 4ms/step - loss: 0.0403 - accuracy: 0.9853\n",
      "Epoch 13/20\n",
      "4569/4569 [==============================] - 19s 4ms/step - loss: 0.0372 - accuracy: 0.9863\n",
      "Epoch 14/20\n",
      "4569/4569 [==============================] - 18s 4ms/step - loss: 0.0342 - accuracy: 0.9875\n",
      "Epoch 15/20\n",
      "4569/4569 [==============================] - 18s 4ms/step - loss: 0.0322 - accuracy: 0.9881\n",
      "Epoch 16/20\n",
      "4569/4569 [==============================] - 18s 4ms/step - loss: 0.0300 - accuracy: 0.9888\n",
      "Epoch 17/20\n",
      "4569/4569 [==============================] - 18s 4ms/step - loss: 0.0279 - accuracy: 0.9894\n",
      "Epoch 18/20\n",
      "4569/4569 [==============================] - 18s 4ms/step - loss: 0.0265 - accuracy: 0.9900\n",
      "Epoch 19/20\n",
      "4569/4569 [==============================] - 18s 4ms/step - loss: 0.0251 - accuracy: 0.9904\n",
      "Epoch 20/20\n",
      "4569/4569 [==============================] - 18s 4ms/step - loss: 0.0245 - accuracy: 0.9907\n",
      "1537/1537 - 3s - loss: 1.1809 - accuracy: 0.8283\n",
      "[1.180876612663269, 0.8282848596572876]\n"
     ]
    }
   ],
   "source": [
    "# 5) 모델 훈련 개시  \n",
    "\n",
    "# complie\n",
    "model.compile(optimizer='adam',\n",
    "              loss='binary_crossentropy',\n",
    "              metrics=['accuracy'])\n",
    "\n",
    "# 학습\n",
    "epochs=20  # 몇 epoch를 훈련하면 좋을지 결과를 보면서 바꾸어 봅시다. \n",
    "\n",
    "model.fit(X_train,y_train,epochs=epochs)\n",
    "\n",
    "result = model.evaluate(X_test,  y_test, verbose=2)\n",
    "print(result)"
   ]
  },
  {
   "cell_type": "code",
   "execution_count": 6,
   "metadata": {},
   "outputs": [
    {
     "name": "stdout",
     "output_type": "stream",
     "text": [
      "Epoch 1/20\n",
      "266/266 [==============================] - 6s 24ms/step - loss: 0.0168 - accuracy: 0.9936 - val_loss: 0.0171 - val_accuracy: 0.9929\n",
      "Epoch 2/20\n",
      "266/266 [==============================] - 2s 6ms/step - loss: 0.0134 - accuracy: 0.9950 - val_loss: 0.0166 - val_accuracy: 0.9933\n",
      "Epoch 3/20\n",
      "266/266 [==============================] - 2s 6ms/step - loss: 0.0124 - accuracy: 0.9953 - val_loss: 0.0164 - val_accuracy: 0.9933\n",
      "Epoch 4/20\n",
      "266/266 [==============================] - 2s 6ms/step - loss: 0.0118 - accuracy: 0.9955 - val_loss: 0.0164 - val_accuracy: 0.9932\n",
      "Epoch 5/20\n",
      "266/266 [==============================] - 2s 7ms/step - loss: 0.0113 - accuracy: 0.9957 - val_loss: 0.0169 - val_accuracy: 0.9931\n",
      "Epoch 6/20\n",
      "266/266 [==============================] - 2s 7ms/step - loss: 0.0108 - accuracy: 0.9959 - val_loss: 0.0171 - val_accuracy: 0.9928\n",
      "Epoch 7/20\n",
      "266/266 [==============================] - 2s 7ms/step - loss: 0.0104 - accuracy: 0.9959 - val_loss: 0.0174 - val_accuracy: 0.9927\n",
      "Epoch 8/20\n",
      "266/266 [==============================] - 2s 6ms/step - loss: 0.0101 - accuracy: 0.9960 - val_loss: 0.0181 - val_accuracy: 0.9928\n",
      "Epoch 9/20\n",
      "266/266 [==============================] - 2s 7ms/step - loss: 0.0098 - accuracy: 0.9961 - val_loss: 0.0185 - val_accuracy: 0.9924\n",
      "Epoch 10/20\n",
      "266/266 [==============================] - 2s 7ms/step - loss: 0.0095 - accuracy: 0.9961 - val_loss: 0.0190 - val_accuracy: 0.9920\n",
      "Epoch 11/20\n",
      "266/266 [==============================] - 2s 7ms/step - loss: 0.0092 - accuracy: 0.9962 - val_loss: 0.0195 - val_accuracy: 0.9920\n",
      "Epoch 12/20\n",
      "266/266 [==============================] - 2s 7ms/step - loss: 0.0089 - accuracy: 0.9963 - val_loss: 0.0210 - val_accuracy: 0.9916\n",
      "Epoch 13/20\n",
      "266/266 [==============================] - 2s 7ms/step - loss: 0.0087 - accuracy: 0.9964 - val_loss: 0.0223 - val_accuracy: 0.9917\n",
      "Epoch 14/20\n",
      "266/266 [==============================] - 2s 7ms/step - loss: 0.0085 - accuracy: 0.9965 - val_loss: 0.0238 - val_accuracy: 0.9906\n",
      "Epoch 15/20\n",
      "266/266 [==============================] - 2s 7ms/step - loss: 0.0082 - accuracy: 0.9965 - val_loss: 0.0239 - val_accuracy: 0.9912\n",
      "Epoch 16/20\n",
      "266/266 [==============================] - 2s 7ms/step - loss: 0.0080 - accuracy: 0.9965 - val_loss: 0.0245 - val_accuracy: 0.9914\n",
      "Epoch 17/20\n",
      "266/266 [==============================] - 2s 7ms/step - loss: 0.0078 - accuracy: 0.9966 - val_loss: 0.0285 - val_accuracy: 0.9899\n",
      "Epoch 18/20\n",
      "266/266 [==============================] - 2s 7ms/step - loss: 0.0075 - accuracy: 0.9967 - val_loss: 0.0289 - val_accuracy: 0.9906\n",
      "Epoch 19/20\n",
      "266/266 [==============================] - 2s 6ms/step - loss: 0.0073 - accuracy: 0.9968 - val_loss: 0.0314 - val_accuracy: 0.9895\n",
      "Epoch 20/20\n",
      "266/266 [==============================] - 2s 7ms/step - loss: 0.0074 - accuracy: 0.9968 - val_loss: 0.0340 - val_accuracy: 0.9894\n",
      "dict_keys(['loss', 'accuracy', 'val_loss', 'val_accuracy'])\n"
     ]
    },
    {
     "data": {
      "image/png": "[encoded data removed]",
      "text/plain": [
       "<Figure size 432x288 with 1 Axes>"
      ]
     },
     "metadata": {
      "needs_background": "light"
     },
     "output_type": "display_data"
    },
    {
     "data": {
      "image/png": "[encoded data removed]",
      "text/plain": [
       "<Figure size 432x288 with 1 Axes>"
      ]
     },
     "metadata": {
      "needs_background": "light"
     },
     "output_type": "display_data"
    }
   ],
   "source": [
    "# 6) Loss, Accuracy 그래프 시각화  \n",
    "\n",
    "history = model.fit(partial_x_train,\n",
    "                    partial_y_train,\n",
    "                    epochs=epochs,\n",
    "                    batch_size=512,\n",
    "                    validation_data=(x_val, y_val),\n",
    "                    verbose=1)\n",
    "\n",
    "history_dict = history.history\n",
    "print(history_dict.keys()) # epoch에 따른 그래프를 그려볼 수 있는 항목들\n",
    "\n",
    "\n",
    "# loss 를 그려보자\n",
    "import matplotlib.pyplot as plt\n",
    "\n",
    "acc = history_dict['accuracy']\n",
    "val_acc = history_dict['val_accuracy']\n",
    "loss = history_dict['loss']\n",
    "val_loss = history_dict['val_loss']\n",
    "\n",
    "epochs = range(1, len(acc) + 1)\n",
    "\n",
    "# \"bo\"는 \"파란색 점\"입니다\n",
    "plt.plot(epochs, loss, 'bo', label='Training loss')\n",
    "# b는 \"파란 실선\"입니다\n",
    "plt.plot(epochs, val_loss, 'b', label='Validation loss')\n",
    "plt.title('Training and validation loss')\n",
    "plt.xlabel('Epochs')\n",
    "plt.ylabel('Loss')\n",
    "plt.legend()\n",
    "\n",
    "plt.show()\n",
    "\n",
    "\n",
    "# accuracy 를 그려보자\n",
    "plt.clf()   # 그림을 초기화합니다\n",
    "\n",
    "plt.plot(epochs, acc, 'bo', label='Training acc')\n",
    "plt.plot(epochs, val_acc, 'b', label='Validation acc')\n",
    "plt.title('Training and validation accuracy')\n",
    "plt.xlabel('Epochs')\n",
    "plt.ylabel('Accuracy')\n",
    "plt.legend()\n",
    "\n",
    "plt.show()\n",
    "\n",
    "\n",
    "## 뭐지???? 심각하게 잘못됐는데???\n",
    "# 왜 훈련 loss는 떨어지고 교차검증 loss는 올라가냐...?"
   ]
  },
  {
   "cell_type": "code",
   "execution_count": 7,
   "metadata": {},
   "outputs": [],
   "source": [
    "# 7) 학습된 Embedding 레이어 분석 "
   ]
  },
  {
   "cell_type": "code",
   "execution_count": 8,
   "metadata": {},
   "outputs": [],
   "source": [
    "# 8) 한국어 Word2Vec 임베딩 활용하여 성능개선   "
   ]
  },
  {
   "cell_type": "code",
   "execution_count": null,
   "metadata": {},
   "outputs": [],
   "source": []
  },
  {
   "cell_type": "code",
   "execution_count": null,
   "metadata": {},
   "outputs": [],
   "source": []
  },
  {
   "cell_type": "code",
   "execution_count": null,
   "metadata": {},
   "outputs": [],
   "source": []
  },
  {
   "cell_type": "code",
   "execution_count": null,
   "metadata": {},
   "outputs": [],
   "source": []
  },
  {
   "cell_type": "code",
   "execution_count": null,
   "metadata": {},
   "outputs": [],
   "source": []
  },
  {
   "cell_type": "code",
   "execution_count": null,
   "metadata": {},
   "outputs": [],
   "source": []
  },
  {
   "cell_type": "code",
   "execution_count": null,
   "metadata": {},
   "outputs": [],
   "source": []
  },
  {
   "cell_type": "code",
   "execution_count": null,
   "metadata": {},
   "outputs": [],
   "source": []
  },
  {
   "cell_type": "code",
   "execution_count": null,
   "metadata": {},
   "outputs": [],
   "source": []
  },
  {
   "cell_type": "code",
   "execution_count": null,
   "metadata": {},
   "outputs": [],
   "source": []
  },
  {
   "cell_type": "code",
   "execution_count": null,
   "metadata": {},
   "outputs": [],
   "source": []
  },
  {
   "cell_type": "code",
   "execution_count": null,
   "metadata": {},
   "outputs": [],
   "source": []
  },
  {
   "cell_type": "code",
   "execution_count": null,
   "metadata": {},
   "outputs": [],
   "source": []
  },
  {
   "cell_type": "code",
   "execution_count": null,
   "metadata": {},
   "outputs": [],
   "source": []
  },
  {
   "cell_type": "code",
   "execution_count": null,
   "metadata": {},
   "outputs": [],
   "source": []
  },
  {
   "cell_type": "code",
   "execution_count": null,
   "metadata": {},
   "outputs": [],
   "source": []
  },
  {
   "cell_type": "code",
   "execution_count": null,
   "metadata": {},
   "outputs": [],
   "source": []
  },
  {
   "cell_type": "code",
   "execution_count": null,
   "metadata": {},
   "outputs": [],
   "source": []
  },
  {
   "cell_type": "code",
   "execution_count": null,
   "metadata": {},
   "outputs": [],
   "source": []
  },
  {
   "cell_type": "code",
   "execution_count": null,
   "metadata": {},
   "outputs": [],
   "source": []
  },
  {
   "cell_type": "code",
   "execution_count": null,
   "metadata": {},
   "outputs": [],
   "source": []
  },
  {
   "cell_type": "code",
   "execution_count": null,
   "metadata": {},
   "outputs": [],
   "source": []
  },
  {
   "cell_type": "code",
   "execution_count": null,
   "metadata": {},
   "outputs": [],
   "source": []
  },
  {
   "cell_type": "code",
   "execution_count": null,
   "metadata": {},
   "outputs": [],
   "source": []
  },
  {
   "cell_type": "code",
   "execution_count": null,
   "metadata": {},
   "outputs": [],
   "source": []
  },
  {
   "cell_type": "code",
   "execution_count": null,
   "metadata": {},
   "outputs": [],
   "source": []
  },
  {
   "cell_type": "code",
   "execution_count": null,
   "metadata": {},
   "outputs": [],
   "source": []
  },
  {
   "cell_type": "code",
   "execution_count": null,
   "metadata": {},
   "outputs": [],
   "source": []
  }
 ],
 "metadata": {
  "kernelspec": {
   "display_name": "aiffel",
   "language": "python",
   "name": "aiffel"
  },
  "language_info": {
   "codemirror_mode": {
    "name": "ipython",
    "version": 3
   },
   "file_extension": ".py",
   "mimetype": "text/x-python",
   "name": "python",
   "nbconvert_exporter": "python",
   "pygments_lexer": "ipython3",
   "version": "3.7.9"
  }
 },
 "nbformat": 4,
 "nbformat_minor": 4
}
