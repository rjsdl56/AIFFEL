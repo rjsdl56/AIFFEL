{
 "cells": [
  {
   "cell_type": "markdown",
   "metadata": {},
   "source": [
    "# 프로젝트 - Movielens 영화 추천 실습 (추천 시스템 프로젝트)"
   ]
  },
  {
   "cell_type": "markdown",
   "metadata": {},
   "source": [
    "# 후기\n",
    "\n",
    "아직까지는 오디오가 최강의 난이도다.   \n",
    "진짜 오디오는 아직도 해결을 못한 **극악의 노드**....    \n",
    "\n",
    "추천 시스템은 돌아가긴 하지만, dataset을 조금 잘못 설정한 것 같다.   \n",
    "하나하나 movie를 search하면서 봐야하니 귀찮다.   \n",
    "나중에 merge로 합친 후에 텍스트를 출력하도록 만들어봐야겠다.   \n",
    "추천시스템 자체는 돌아가지만, 추천의 성능은 매우 구리다.   \n",
    "넷플릭스와 왓챠 AI 분들께 존경과 박수를...   "
   ]
  },
  {
   "cell_type": "markdown",
   "metadata": {},
   "source": [
    "# 진행순서\n",
    "\n",
    "1) 데이터 전처리와 준비   \n",
    "2) 분석   \n",
    "3) CSR matrix   \n",
    "4) AlternatingLeastSquares 모델 구성 및 훈련   \n",
    "5) 모델 성능 확인 (선호도 파악 및 유사 영화 열거)   \n",
    "6) 추천 받기   "
   ]
  },
  {
   "cell_type": "markdown",
   "metadata": {},
   "source": [
    "### 1) 데이터 전처리와 준비"
   ]
  },
  {
   "cell_type": "code",
   "execution_count": 1,
   "metadata": {},
   "outputs": [
    {
     "data": {
      "text/html": [
       "<div>\n",
       "<style scoped>\n",
       "    .dataframe tbody tr th:only-of-type {\n",
       "        vertical-align: middle;\n",
       "    }\n",
       "\n",
       "    .dataframe tbody tr th {\n",
       "        vertical-align: top;\n",
       "    }\n",
       "\n",
       "    .dataframe thead th {\n",
       "        text-align: right;\n",
       "    }\n",
       "</style>\n",
       "<table border=\"1\" class=\"dataframe\">\n",
       "  <thead>\n",
       "    <tr style=\"text-align: right;\">\n",
       "      <th></th>\n",
       "      <th>user_id</th>\n",
       "      <th>movie_id</th>\n",
       "      <th>rating</th>\n",
       "      <th>timestamp</th>\n",
       "    </tr>\n",
       "  </thead>\n",
       "  <tbody>\n",
       "    <tr>\n",
       "      <th>0</th>\n",
       "      <td>1</td>\n",
       "      <td>1193</td>\n",
       "      <td>5</td>\n",
       "      <td>978300760</td>\n",
       "    </tr>\n",
       "    <tr>\n",
       "      <th>1</th>\n",
       "      <td>1</td>\n",
       "      <td>661</td>\n",
       "      <td>3</td>\n",
       "      <td>978302109</td>\n",
       "    </tr>\n",
       "    <tr>\n",
       "      <th>2</th>\n",
       "      <td>1</td>\n",
       "      <td>914</td>\n",
       "      <td>3</td>\n",
       "      <td>978301968</td>\n",
       "    </tr>\n",
       "    <tr>\n",
       "      <th>3</th>\n",
       "      <td>1</td>\n",
       "      <td>3408</td>\n",
       "      <td>4</td>\n",
       "      <td>978300275</td>\n",
       "    </tr>\n",
       "    <tr>\n",
       "      <th>4</th>\n",
       "      <td>1</td>\n",
       "      <td>2355</td>\n",
       "      <td>5</td>\n",
       "      <td>978824291</td>\n",
       "    </tr>\n",
       "  </tbody>\n",
       "</table>\n",
       "</div>"
      ],
      "text/plain": [
       "   user_id  movie_id  rating  timestamp\n",
       "0        1      1193       5  978300760\n",
       "1        1       661       3  978302109\n",
       "2        1       914       3  978301968\n",
       "3        1      3408       4  978300275\n",
       "4        1      2355       5  978824291"
      ]
     },
     "metadata": {},
     "output_type": "display_data"
    },
    {
     "data": {
      "text/plain": [
       "(1000209, 4)"
      ]
     },
     "execution_count": 1,
     "metadata": {},
     "output_type": "execute_result"
    }
   ],
   "source": [
    "import pandas as pd\n",
    "import numpy as np\n",
    "import os\n",
    "rating_file_path=os.getenv('HOME') + '/aiffel/recommendata_iu/data/ml-1m/ratings.dat' # 데이터 패스\n",
    "ratings_cols = ['user_id', 'movie_id', 'rating', 'timestamp']\n",
    "ratings = pd.read_csv(rating_file_path, sep='::', names=ratings_cols, engine='python') # python으로 읽는다. 컬럼명은 names 인자로 준다.\n",
    "orginal_data_size = len(ratings)\n",
    "display(ratings.head()) # 데이터 형태를 확인합시다.\n",
    "ratings.shape # 데이터 행과 열"
   ]
  },
  {
   "cell_type": "code",
   "execution_count": 2,
   "metadata": {},
   "outputs": [
    {
     "name": "stdout",
     "output_type": "stream",
     "text": [
      "orginal_data_size: 1000209, filtered_data_size: 836478\n",
      "Ratio of Remaining Data is 83.63%\n"
     ]
    }
   ],
   "source": [
    "# 3점 이상만 남깁니다.\n",
    "ratings = ratings[ratings['rating']>=3] # ratings 컬럼에서 3이상만!! -->  ratings 데이터프레임으로!!\n",
    "filtered_data_size = len(ratings)\n",
    "\n",
    "print(f'orginal_data_size: {orginal_data_size}, filtered_data_size: {filtered_data_size}') # 원래는 1000209개, 3점 이상은 836478개\n",
    "print(f'Ratio of Remaining Data is {filtered_data_size / orginal_data_size:.2%}') # 3점 이상은 83.63% 입니다!!"
   ]
  },
  {
   "cell_type": "code",
   "execution_count": 3,
   "metadata": {},
   "outputs": [],
   "source": [
    "# rating 컬럼의 이름을 count로 바꿉니다. \n",
    "# 왜 바꾸냐고? 평점이 높은 만큼 더 많이 봤다라고 생각하기 위해서!!\n",
    "ratings.rename(columns={'rating':'count'}, inplace=True)"
   ]
  },
  {
   "cell_type": "code",
   "execution_count": 4,
   "metadata": {},
   "outputs": [
    {
     "data": {
      "text/plain": [
       "0          5\n",
       "1          3\n",
       "2          3\n",
       "3          4\n",
       "4          5\n",
       "          ..\n",
       "1000203    3\n",
       "1000205    5\n",
       "1000206    5\n",
       "1000207    4\n",
       "1000208    4\n",
       "Name: count, Length: 836478, dtype: int64"
      ]
     },
     "execution_count": 4,
     "metadata": {},
     "output_type": "execute_result"
    }
   ],
   "source": [
    "ratings['count']"
   ]
  },
  {
   "cell_type": "code",
   "execution_count": 5,
   "metadata": {},
   "outputs": [
    {
     "data": {
      "text/html": [
       "<div>\n",
       "<style scoped>\n",
       "    .dataframe tbody tr th:only-of-type {\n",
       "        vertical-align: middle;\n",
       "    }\n",
       "\n",
       "    .dataframe tbody tr th {\n",
       "        vertical-align: top;\n",
       "    }\n",
       "\n",
       "    .dataframe thead th {\n",
       "        text-align: right;\n",
       "    }\n",
       "</style>\n",
       "<table border=\"1\" class=\"dataframe\">\n",
       "  <thead>\n",
       "    <tr style=\"text-align: right;\">\n",
       "      <th></th>\n",
       "      <th>movie_id</th>\n",
       "      <th>title</th>\n",
       "      <th>genre</th>\n",
       "    </tr>\n",
       "  </thead>\n",
       "  <tbody>\n",
       "    <tr>\n",
       "      <th>0</th>\n",
       "      <td>1</td>\n",
       "      <td>Toy Story (1995)</td>\n",
       "      <td>Animation|Children's|Comedy</td>\n",
       "    </tr>\n",
       "    <tr>\n",
       "      <th>1</th>\n",
       "      <td>2</td>\n",
       "      <td>Jumanji (1995)</td>\n",
       "      <td>Adventure|Children's|Fantasy</td>\n",
       "    </tr>\n",
       "    <tr>\n",
       "      <th>2</th>\n",
       "      <td>3</td>\n",
       "      <td>Grumpier Old Men (1995)</td>\n",
       "      <td>Comedy|Romance</td>\n",
       "    </tr>\n",
       "    <tr>\n",
       "      <th>3</th>\n",
       "      <td>4</td>\n",
       "      <td>Waiting to Exhale (1995)</td>\n",
       "      <td>Comedy|Drama</td>\n",
       "    </tr>\n",
       "    <tr>\n",
       "      <th>4</th>\n",
       "      <td>5</td>\n",
       "      <td>Father of the Bride Part II (1995)</td>\n",
       "      <td>Comedy</td>\n",
       "    </tr>\n",
       "  </tbody>\n",
       "</table>\n",
       "</div>"
      ],
      "text/plain": [
       "   movie_id                               title                         genre\n",
       "0         1                    Toy Story (1995)   Animation|Children's|Comedy\n",
       "1         2                      Jumanji (1995)  Adventure|Children's|Fantasy\n",
       "2         3             Grumpier Old Men (1995)                Comedy|Romance\n",
       "3         4            Waiting to Exhale (1995)                  Comedy|Drama\n",
       "4         5  Father of the Bride Part II (1995)                        Comedy"
      ]
     },
     "metadata": {},
     "output_type": "display_data"
    },
    {
     "data": {
      "text/plain": [
       "'Jumanji (1995)'"
      ]
     },
     "execution_count": 5,
     "metadata": {},
     "output_type": "execute_result"
    }
   ],
   "source": [
    "# 영화 제목을 보기 위해 메타 데이터를 읽어옵니다.\n",
    "movie_file_path=os.getenv('HOME') + '/aiffel/recommendata_iu/data/ml-1m/movies.dat'\n",
    "cols = ['movie_id', 'title', 'genre'] \n",
    "movies = pd.read_csv(movie_file_path, sep='::', names=cols, engine='python')\n",
    "display(movies.head())\n",
    "\n",
    "movies['title'][1]"
   ]
  },
  {
   "cell_type": "markdown",
   "metadata": {},
   "source": [
    "### 2) 분석해봅시다.\n",
    "- ratings에 있는 유니크한 영화 개수\n",
    "- rating에 있는 유니크한 사용자 수\n",
    "- 가장 인기 있는 영화 30개(인기순)"
   ]
  },
  {
   "cell_type": "code",
   "execution_count": 6,
   "metadata": {},
   "outputs": [
    {
     "name": "stdout",
     "output_type": "stream",
     "text": [
      "유니크한 영화 개수 : 3628\n",
      "유니크한 사용자 수 : 6039\n",
      "가장 인기있는 영화 리스트 : ['Brief Encounter (1946)', 'Ladybird Ladybird (1994)', 'Alien (1979)', 'Raging Bull (1980)', 'Something Wicked This Way Comes (1983)', 'Silence of the Lambs, The (1991)', 'Pretty Woman (1990)', 'Big Blue, The (Le Grand Bleu) (1988)', 'Some Kind of Wonderful (1987)', 'Superman (1978)', 'Lassie (1994)', 'Dog of Flanders, A (1999)', 'Pallbearer, The (1996)', 'Rumble in the Bronx (1995)', 'Wishmaster (1997)', 'Secret Garden, The (1993)', 'Army of Darkness (1993)', 'Deadly Friend (1986)', 'Stripes (1981)', 'Strawberry and Chocolate (Fresa y chocolate) (1993)', 'Kansas City (1996)', 'Heathers (1989)', 'Associate, The (1996)', 'Tora! Tora! Tora! (1970)', 'Tales of Terror (1962)', 'Priest (1994)', 'I Love Trouble (1994)', 'M (1931)', 'Jumanji (1995)', 'Go Fish (1994)']\n"
     ]
    }
   ],
   "source": [
    "# ratings에 있는 유니크한 영화 개수\n",
    "print(\"유니크한 영화 개수 :\",ratings['movie_id'].nunique())\n",
    "\n",
    "# ratings에 있는 유니크한 사용자 수\n",
    "print(\"유니크한 사용자 수 :\",ratings['user_id'].nunique())\n",
    "\n",
    "# 가장 인기 있는 영화 30개 -> ratings에서 가장 인기 많은 영화를 찾은 뒤, movies에서 상위 30개 제목을 가져온다.\n",
    "popular_movies_count = ratings.groupby('movie_id')['user_id'].count()\n",
    "movies_top30 = popular_movies_count.sort_values(ascending=False).head(30)\n",
    "movies_top30 = movies_top30.keys()\n",
    "\n",
    "most_popular_movies_list = []\n",
    "for x in movies_top30 :\n",
    "    most_popular_movies_list.append(movies['title'][x])\n",
    "    \n",
    "print(\"가장 인기있는 영화 리스트 :\",most_popular_movies_list)\n",
    "\n",
    "# 혹시 모르니 딕셔너리\n",
    "movie_dict = {}\n",
    "for x in range(len(movies_top30)):\n",
    "    movie_dict[movies_top30[x]] = most_popular_movies_list[x]\n",
    "# print(movie_dict)"
   ]
  },
  {
   "cell_type": "markdown",
   "metadata": {},
   "source": [
    "### 3) 내가 선호하는 영화를 5가지 골라서 rating에 추가해 줍시다."
   ]
  },
  {
   "cell_type": "code",
   "execution_count": 7,
   "metadata": {},
   "outputs": [
    {
     "name": "stdout",
     "output_type": "stream",
     "text": [
      "내가 좋아하는 영화 5개는  ['Alien (1979)', 'Raging Bull (1980)', 'Pretty Woman (1990)', 'Silence of the Lambs, The (1991)', 'Jumanji (1995)'] 입니당\n",
      "내가 좋아하는 영화 5개 아이디는  [1196, 1210, 589, 593, 1] 입니당\n",
      "유니크한 사용자 수 : 6040\n"
     ]
    },
    {
     "data": {
      "text/html": [
       "<div>\n",
       "<style scoped>\n",
       "    .dataframe tbody tr th:only-of-type {\n",
       "        vertical-align: middle;\n",
       "    }\n",
       "\n",
       "    .dataframe tbody tr th {\n",
       "        vertical-align: top;\n",
       "    }\n",
       "\n",
       "    .dataframe thead th {\n",
       "        text-align: right;\n",
       "    }\n",
       "</style>\n",
       "<table border=\"1\" class=\"dataframe\">\n",
       "  <thead>\n",
       "    <tr style=\"text-align: right;\">\n",
       "      <th></th>\n",
       "      <th>user_id</th>\n",
       "      <th>movie_id</th>\n",
       "      <th>count</th>\n",
       "      <th>timestamp</th>\n",
       "    </tr>\n",
       "  </thead>\n",
       "  <tbody>\n",
       "    <tr>\n",
       "      <th>0</th>\n",
       "      <td>6041</td>\n",
       "      <td>1196</td>\n",
       "      <td>5</td>\n",
       "      <td>978298730</td>\n",
       "    </tr>\n",
       "    <tr>\n",
       "      <th>1</th>\n",
       "      <td>6041</td>\n",
       "      <td>1210</td>\n",
       "      <td>5</td>\n",
       "      <td>978298730</td>\n",
       "    </tr>\n",
       "    <tr>\n",
       "      <th>2</th>\n",
       "      <td>6041</td>\n",
       "      <td>589</td>\n",
       "      <td>5</td>\n",
       "      <td>978298730</td>\n",
       "    </tr>\n",
       "    <tr>\n",
       "      <th>3</th>\n",
       "      <td>6041</td>\n",
       "      <td>593</td>\n",
       "      <td>5</td>\n",
       "      <td>978298730</td>\n",
       "    </tr>\n",
       "    <tr>\n",
       "      <th>4</th>\n",
       "      <td>6041</td>\n",
       "      <td>1</td>\n",
       "      <td>5</td>\n",
       "      <td>978298730</td>\n",
       "    </tr>\n",
       "  </tbody>\n",
       "</table>\n",
       "</div>"
      ],
      "text/plain": [
       "   user_id  movie_id  count  timestamp\n",
       "0     6041      1196      5  978298730\n",
       "1     6041      1210      5  978298730\n",
       "2     6041       589      5  978298730\n",
       "3     6041       593      5  978298730\n",
       "4     6041         1      5  978298730"
      ]
     },
     "execution_count": 7,
     "metadata": {},
     "output_type": "execute_result"
    }
   ],
   "source": [
    "# my_favorite_movies = ['A Clockwork Orange (1971)', 'Plein Soleil (1960)', 'Leon (1994)', 'The Darkknight (2008)', 'Up (2009)']\n",
    "# for x in my_favorite_movies :\n",
    "#     if x in movies['title'] :\n",
    "#         print(x)\n",
    "#     else :\n",
    "#         print(\"We don't have\",x, \"in movie list.\")\n",
    "# 내가 좋아하는 영화는 없다.\n",
    "\n",
    "\n",
    "# 있는 영화 중에 고릅시다.\n",
    "my_favorite_movies = ['Alien (1979)', 'Raging Bull (1980)', 'Pretty Woman (1990)', 'Silence of the Lambs, The (1991)', 'Jumanji (1995)']\n",
    "\n",
    "print(\"내가 좋아하는 영화 5개는 \",my_favorite_movies,\"입니당\")\n",
    "\n",
    "# 애네 아이디가 뭐더라\n",
    "my_favorite_movies_id = []\n",
    "for idx, title in movie_dict.items(): \n",
    "    if title in my_favorite_movies:\n",
    "        my_favorite_movies_id.append(idx)\n",
    "\n",
    "print(\"내가 좋아하는 영화 5개 아이디는 \",my_favorite_movies_id,\"입니당\")\n",
    "\n",
    "\n",
    "    \n",
    "# timestamp는 뭔지 모르겠다 그냥 하자    \n",
    "# 한번 rating에 추가해봅시다.\n",
    "my_movie_list = pd.DataFrame({'user_id' : [6041]*5, 'movie_id':my_favorite_movies_id, 'count':[5]*5, 'timestamp':[978298730]*5})\n",
    "\n",
    "if not ratings.isin({'user_id':[6041]})['user_id'].any():\n",
    "    ratings = ratings.append(my_movie_list)\n",
    "    \n",
    "\n",
    "\n",
    "# 내가 잘 추가 되었는지 확인해봅시다.\n",
    "# 유니크한 사용자 수가 이전에는 6040명이었음 / \n",
    "print(\"유니크한 사용자 수 :\",ratings['user_id'].nunique()) # 추가 되었다.\n",
    "\n",
    "ratings.tail()"
   ]
  },
  {
   "cell_type": "code",
   "execution_count": 8,
   "metadata": {},
   "outputs": [
    {
     "name": "stdout",
     "output_type": "stream",
     "text": [
      "내 아이디 인덱스 : 6039\n",
      "쥬만지 인덱스 : 40\n"
     ]
    }
   ],
   "source": [
    "# 전처리를 해야 하나요? --> 밑에서 자꾸 오류나니까 한 번 해봅시다.\n",
    "# 고유한 유저, 영화를 찾아내는 코드\n",
    "user_unique = ratings['user_id'].unique()\n",
    "movie_unique = ratings['movie_id'].unique()\n",
    "\n",
    "# 유저, 영화 indexing 하는 코드 idx는 index의 약자입니다.\n",
    "user_to_idx = {v:k for k,v in enumerate(user_unique)}\n",
    "movie_to_idx = {v:k for k,v in enumerate(movie_unique)}\n",
    "\n",
    "# 인덱싱이 잘 되었는지 확인해 봅니다. \n",
    "print(\"내 아이디 인덱스 :\",user_to_idx[6041])    # 6040명의 유저 중 마지막으로 추가된 유저이니 6039가 나와야 합니다. \n",
    "print(\"쥬만지 인덱스 :\",movie_to_idx[1])"
   ]
  },
  {
   "cell_type": "code",
   "execution_count": 23,
   "metadata": {},
   "outputs": [
    {
     "data": {
      "text/html": [
       "<div>\n",
       "<style scoped>\n",
       "    .dataframe tbody tr th:only-of-type {\n",
       "        vertical-align: middle;\n",
       "    }\n",
       "\n",
       "    .dataframe tbody tr th {\n",
       "        vertical-align: top;\n",
       "    }\n",
       "\n",
       "    .dataframe thead th {\n",
       "        text-align: right;\n",
       "    }\n",
       "</style>\n",
       "<table border=\"1\" class=\"dataframe\">\n",
       "  <thead>\n",
       "    <tr style=\"text-align: right;\">\n",
       "      <th></th>\n",
       "      <th>user_id</th>\n",
       "      <th>movie_id</th>\n",
       "      <th>count</th>\n",
       "      <th>timestamp</th>\n",
       "    </tr>\n",
       "  </thead>\n",
       "  <tbody>\n",
       "    <tr>\n",
       "      <th>0</th>\n",
       "      <td>6041</td>\n",
       "      <td>1196</td>\n",
       "      <td>5</td>\n",
       "      <td>978298730</td>\n",
       "    </tr>\n",
       "    <tr>\n",
       "      <th>1</th>\n",
       "      <td>6041</td>\n",
       "      <td>1210</td>\n",
       "      <td>5</td>\n",
       "      <td>978298730</td>\n",
       "    </tr>\n",
       "    <tr>\n",
       "      <th>2</th>\n",
       "      <td>6041</td>\n",
       "      <td>589</td>\n",
       "      <td>5</td>\n",
       "      <td>978298730</td>\n",
       "    </tr>\n",
       "    <tr>\n",
       "      <th>3</th>\n",
       "      <td>6041</td>\n",
       "      <td>593</td>\n",
       "      <td>5</td>\n",
       "      <td>978298730</td>\n",
       "    </tr>\n",
       "    <tr>\n",
       "      <th>4</th>\n",
       "      <td>6041</td>\n",
       "      <td>1</td>\n",
       "      <td>5</td>\n",
       "      <td>978298730</td>\n",
       "    </tr>\n",
       "  </tbody>\n",
       "</table>\n",
       "</div>"
      ],
      "text/plain": [
       "   user_id  movie_id  count  timestamp\n",
       "0     6041      1196      5  978298730\n",
       "1     6041      1210      5  978298730\n",
       "2     6041       589      5  978298730\n",
       "3     6041       593      5  978298730\n",
       "4     6041         1      5  978298730"
      ]
     },
     "execution_count": 23,
     "metadata": {},
     "output_type": "execute_result"
    }
   ],
   "source": [
    "# 해당 코드를 돌리면 영화 아이디 순서가 뒤죽박죽이 된다!! 돌리지 말것!!\n",
    "\n",
    "\n",
    "# # user_to_idx.get을 통해 user_id 컬럼의 모든 값을 인덱싱한 Series를 구해 봅시다. \n",
    "# # 혹시 정상적으로 인덱싱되지 않은 row가 있다면 인덱스가 NaN이 될 테니 dropna()로 제거합니다. \n",
    "# temp_user_ratings = ratings['user_id'].map(user_to_idx.get).dropna()\n",
    "# if len(temp_user_ratings) == len(ratings):   # 모든 row가 정상적으로 인덱싱되었다면\n",
    "#     print('user_id column indexing OK!!')\n",
    "#     ratings['user_id'] = temp_user_ratings   # data['user_id']을 인덱싱된 Series로 교체해 줍니다. \n",
    "# else:\n",
    "#     print('user_id column indexing Fail!!')\n",
    "\n",
    "# # artist_to_idx을 통해 artist 컬럼도 동일한 방식으로 인덱싱해 줍니다. \n",
    "# temp_movie_ratings = ratings['movie_id'].map(movie_to_idx.get).dropna()\n",
    "# if len(temp_movie_ratings) == len(ratings):\n",
    "#     print('moviet column indexing OK!!')\n",
    "#     ratings['movie_id'] = temp_movie_ratings\n",
    "# else:\n",
    "#     print('movie column indexing Fail!!')\n",
    "\n",
    "ratings.tail()"
   ]
  },
  {
   "cell_type": "markdown",
   "metadata": {},
   "source": [
    "### 4) CSR matrix를 직접 만들어 봅시다."
   ]
  },
  {
   "cell_type": "code",
   "execution_count": 10,
   "metadata": {},
   "outputs": [
    {
     "name": "stdout",
     "output_type": "stream",
     "text": [
      "<class 'pandas.core.frame.DataFrame'>\n",
      "Int64Index: 836483 entries, 0 to 4\n",
      "Data columns (total 4 columns):\n",
      " #   Column     Non-Null Count   Dtype\n",
      "---  ------     --------------   -----\n",
      " 0   user_id    836483 non-null  int64\n",
      " 1   movie_id   836483 non-null  int64\n",
      " 2   count      836483 non-null  int64\n",
      " 3   timestamp  836483 non-null  int64\n",
      "dtypes: int64(4)\n",
      "memory usage: 31.9 MB\n",
      "6040\n",
      "3628\n"
     ]
    },
    {
     "data": {
      "text/plain": [
       "<6042x3953 sparse matrix of type '<class 'numpy.int64'>'\n",
       "\twith 836483 stored elements in Compressed Sparse Row format>"
      ]
     },
     "execution_count": 10,
     "metadata": {},
     "output_type": "execute_result"
    }
   ],
   "source": [
    "ratings.info()\n",
    "\n",
    "# CSR matrix 갑니다.\n",
    "from scipy.sparse import csr_matrix\n",
    "\n",
    "num_user = ratings['user_id'].nunique()\n",
    "num_movie = ratings['movie_id'].nunique()\n",
    "\n",
    "print(num_user)\n",
    "print(num_movie)\n",
    "\n",
    "csr_data = csr_matrix((ratings['count'], (ratings.user_id, ratings.movie_id)))\n",
    "csr_data"
   ]
  },
  {
   "cell_type": "markdown",
   "metadata": {},
   "source": [
    "### 5) als_model = AlternatingLeastSquares 모델을 직접 구성하여 훈련시켜 봅시다."
   ]
  },
  {
   "cell_type": "code",
   "execution_count": 11,
   "metadata": {},
   "outputs": [],
   "source": [
    "from implicit.als import AlternatingLeastSquares\n",
    "import os\n",
    "import numpy as np\n",
    "\n",
    "# implicit 라이브러리에서 권장하고 있는 부분입니다. 학습 내용과는 무관합니다.\n",
    "os.environ['OPENBLAS_NUM_THREADS']='1'\n",
    "os.environ['KMP_DUPLICATE_LIB_OK']='True'\n",
    "os.environ['MKL_NUM_THREADS']='1'\n",
    "\n",
    "# Implicit AlternatingLeastSquares 모델의 선언\n",
    "als_model = AlternatingLeastSquares(factors=100, regularization=0.01, use_gpu=False, iterations=15, dtype=np.float32)\n",
    "\n"
   ]
  },
  {
   "cell_type": "code",
   "execution_count": 12,
   "metadata": {},
   "outputs": [
    {
     "data": {
      "text/plain": [
       "<3953x6042 sparse matrix of type '<class 'numpy.int64'>'\n",
       "\twith 836483 stored elements in Compressed Sparse Column format>"
      ]
     },
     "execution_count": 12,
     "metadata": {},
     "output_type": "execute_result"
    }
   ],
   "source": [
    "# als 모델은 input으로 (item X user 꼴의 matrix를 받기 때문에 Transpose해줍니다.)\n",
    "csr_data_transpose = csr_data.T\n",
    "csr_data_transpose"
   ]
  },
  {
   "cell_type": "code",
   "execution_count": 13,
   "metadata": {},
   "outputs": [
    {
     "data": {
      "application/vnd.jupyter.widget-view+json": {
       "model_id": "e6990d16c6c74bc69861f32e18ee6442",
       "version_major": 2,
       "version_minor": 0
      },
      "text/plain": [
       "  0%|          | 0/15 [00:00<?, ?it/s]"
      ]
     },
     "metadata": {},
     "output_type": "display_data"
    }
   ],
   "source": [
    "# 모델 훈련\n",
    "als_model.fit(csr_data_transpose)"
   ]
  },
  {
   "cell_type": "markdown",
   "metadata": {},
   "source": [
    "### 6) 내가 선호하는 5가지 영화 중 하나와 그 외의 영화 하나를 골라 훈련된 모델이 예측한 나의 선호도를 파악해 보세요."
   ]
  },
  {
   "cell_type": "code",
   "execution_count": 38,
   "metadata": {},
   "outputs": [],
   "source": [
    "# 첫 빠따는 쥬만지가 맞자.\n",
    "\n",
    "sungjun, Jumanji = user_to_idx[6039], movie_to_idx[1]\n",
    "sungjun_vector, Jumanji_vector = als_model.user_factors[6039], als_model.item_factors[1]"
   ]
  },
  {
   "cell_type": "code",
   "execution_count": 39,
   "metadata": {},
   "outputs": [
    {
     "data": {
      "text/plain": [
       "array([ 2.5495994e+00, -8.6224788e-01, -1.8791540e-01,  7.9482198e-01,\n",
       "        5.5662923e+00, -4.9543223e-01,  2.1576534e-01, -1.6990745e+00,\n",
       "        2.6098324e-02,  9.4485527e-01, -5.9766686e-01,  2.2555578e+00,\n",
       "       -9.1023976e-01, -3.8946372e-01, -3.0188015e-01, -8.3228499e-01,\n",
       "       -1.3410946e+00,  1.1048502e+00, -2.5588295e+00, -1.7260292e-01,\n",
       "        4.6380201e-01, -7.4189103e-01, -1.1903168e+00, -2.3375202e-03,\n",
       "       -6.4618081e-01, -2.6441116e+00,  2.5400394e-01,  2.0994308e+00,\n",
       "       -1.2252605e+00, -3.6599725e-01,  4.5587519e-01, -9.3207222e-01,\n",
       "        4.5611572e+00, -3.1141931e-01, -4.5816520e-01, -4.5247903e-01,\n",
       "       -2.8477341e-01, -8.5362262e-01, -2.1571998e-02,  8.9196366e-01,\n",
       "       -4.9735017e-02, -2.7338853e+00,  1.8755355e+00, -1.2122713e+00,\n",
       "        1.4764248e-01,  2.5329709e-01, -2.6853859e+00, -1.7978585e-01,\n",
       "        3.2318761e+00, -1.0718497e+00,  7.0740975e-02,  4.8718926e-01,\n",
       "        1.6195968e-01, -3.0352762e+00, -1.8738453e+00, -1.3348523e+00,\n",
       "        3.8788562e+00,  7.4392116e-01, -2.0647811e-02, -1.3203757e+00,\n",
       "        7.6513588e-02,  1.8999282e+00, -1.7289755e+00, -6.3174689e-01,\n",
       "        1.3654615e+00, -3.1049659e+00, -1.0822101e+00, -1.9954361e+00,\n",
       "       -1.0596465e-01,  2.7172763e+00,  4.8124257e-02,  1.3006173e+00,\n",
       "        5.6127566e-01,  1.0301535e+00,  2.5224845e+00, -2.4433127e-01,\n",
       "        8.3815533e-01, -3.1134140e+00, -7.2689027e-01,  6.6253608e-01,\n",
       "        1.8228932e-01, -9.8974966e-03, -2.7733722e-01, -6.1593309e-02,\n",
       "       -1.1784516e-01,  2.2705073e+00, -3.6387902e-01,  3.7046819e+00,\n",
       "        3.1328108e+00,  4.6732388e+00,  3.6926654e-01,  2.8702514e+00,\n",
       "       -3.4113398e-01, -1.4628221e+00, -1.5363023e+00,  2.9251509e+00,\n",
       "        1.9211818e+00,  3.4500287e+00, -1.2666992e+00,  3.0124421e+00],\n",
       "      dtype=float32)"
      ]
     },
     "execution_count": 39,
     "metadata": {},
     "output_type": "execute_result"
    }
   ],
   "source": [
    "sungjun_vector"
   ]
  },
  {
   "cell_type": "code",
   "execution_count": 40,
   "metadata": {},
   "outputs": [
    {
     "data": {
      "text/plain": [
       "array([ 0.02480057, -0.00506632, -0.02752275,  0.00683821,  0.00548419,\n",
       "        0.0006699 , -0.01214437,  0.02091811,  0.03666697,  0.02612253,\n",
       "       -0.01596926, -0.00918277,  0.0014776 ,  0.02646539, -0.02338996,\n",
       "       -0.01764669,  0.02524528,  0.0094071 , -0.0380257 , -0.0336464 ,\n",
       "        0.01196412,  0.0429974 , -0.01598025, -0.01611785,  0.00654157,\n",
       "       -0.0269997 , -0.00455737,  0.02506502, -0.02914086,  0.02789844,\n",
       "        0.01764943, -0.01244365,  0.04122737,  0.02010476,  0.00313672,\n",
       "        0.00072292,  0.00924885, -0.00939887, -0.0306387 ,  0.0375472 ,\n",
       "        0.02688732,  0.01440808,  0.00536236,  0.00851207, -0.0013808 ,\n",
       "       -0.00330038,  0.02024124,  0.00205612,  0.02213772,  0.0173508 ,\n",
       "        0.00727039,  0.04486958,  0.01187072, -0.0212801 ,  0.01709189,\n",
       "        0.00286341,  0.01087059,  0.05189516,  0.0079086 , -0.00072528,\n",
       "        0.03044181, -0.03394064, -0.00708742,  0.01288798,  0.01642933,\n",
       "        0.00646783, -0.03158372,  0.04809976,  0.00843745, -0.0108704 ,\n",
       "        0.00559986,  0.00530748,  0.00336268,  0.00827814, -0.00902303,\n",
       "        0.01810161, -0.00686481,  0.021431  ,  0.0144637 ,  0.02068338,\n",
       "       -0.01568822,  0.00433115, -0.01500163,  0.00699936, -0.01003181,\n",
       "        0.00774759, -0.00140945,  0.02579293,  0.0393128 , -0.00600999,\n",
       "        0.01097789,  0.0014252 ,  0.03347243, -0.00857842,  0.01233102,\n",
       "        0.01824865,  0.03075556, -0.00630738, -0.008549  ,  0.00269422],\n",
       "      dtype=float32)"
      ]
     },
     "execution_count": 40,
     "metadata": {},
     "output_type": "execute_result"
    }
   ],
   "source": [
    "Jumanji_vector"
   ]
  },
  {
   "cell_type": "code",
   "execution_count": 41,
   "metadata": {},
   "outputs": [
    {
     "data": {
      "text/plain": [
       "0.7252029"
      ]
     },
     "execution_count": 41,
     "metadata": {},
     "output_type": "execute_result"
    }
   ],
   "source": [
    "# sungjun과 Jumanji를 내적하는 코드\n",
    "np.dot(sungjun_vector, Jumanji_vector)\n",
    "\n",
    "# 쥬만지를 72만큼 좋아해~"
   ]
  },
  {
   "cell_type": "code",
   "execution_count": 42,
   "metadata": {},
   "outputs": [
    {
     "name": "stdout",
     "output_type": "stream",
     "text": [
      "내가 5점 준 영화들 : ['Alien (1979)', 'Raging Bull (1980)', 'Pretty Woman (1990)', 'Silence of the Lambs, The (1991)', 'Jumanji (1995)']\n"
     ]
    },
    {
     "data": {
      "text/html": [
       "<div>\n",
       "<style scoped>\n",
       "    .dataframe tbody tr th:only-of-type {\n",
       "        vertical-align: middle;\n",
       "    }\n",
       "\n",
       "    .dataframe tbody tr th {\n",
       "        vertical-align: top;\n",
       "    }\n",
       "\n",
       "    .dataframe thead th {\n",
       "        text-align: right;\n",
       "    }\n",
       "</style>\n",
       "<table border=\"1\" class=\"dataframe\">\n",
       "  <thead>\n",
       "    <tr style=\"text-align: right;\">\n",
       "      <th></th>\n",
       "      <th>user_id</th>\n",
       "      <th>movie_id</th>\n",
       "      <th>count</th>\n",
       "      <th>timestamp</th>\n",
       "    </tr>\n",
       "  </thead>\n",
       "  <tbody>\n",
       "    <tr>\n",
       "      <th>0</th>\n",
       "      <td>6041</td>\n",
       "      <td>1196</td>\n",
       "      <td>5</td>\n",
       "      <td>978298730</td>\n",
       "    </tr>\n",
       "    <tr>\n",
       "      <th>1</th>\n",
       "      <td>6041</td>\n",
       "      <td>1210</td>\n",
       "      <td>5</td>\n",
       "      <td>978298730</td>\n",
       "    </tr>\n",
       "    <tr>\n",
       "      <th>2</th>\n",
       "      <td>6041</td>\n",
       "      <td>589</td>\n",
       "      <td>5</td>\n",
       "      <td>978298730</td>\n",
       "    </tr>\n",
       "    <tr>\n",
       "      <th>3</th>\n",
       "      <td>6041</td>\n",
       "      <td>593</td>\n",
       "      <td>5</td>\n",
       "      <td>978298730</td>\n",
       "    </tr>\n",
       "    <tr>\n",
       "      <th>4</th>\n",
       "      <td>6041</td>\n",
       "      <td>1</td>\n",
       "      <td>5</td>\n",
       "      <td>978298730</td>\n",
       "    </tr>\n",
       "  </tbody>\n",
       "</table>\n",
       "</div>"
      ],
      "text/plain": [
       "   user_id  movie_id  count  timestamp\n",
       "0     6041      1196      5  978298730\n",
       "1     6041      1210      5  978298730\n",
       "2     6041       589      5  978298730\n",
       "3     6041       593      5  978298730\n",
       "4     6041         1      5  978298730"
      ]
     },
     "metadata": {},
     "output_type": "display_data"
    },
    {
     "name": "stdout",
     "output_type": "stream",
     "text": [
      "=======================================\n",
      "상위 30개 목록 : [(1, 'Jumanji (1995)'), (110, 'Rumble in the Bronx (1995)'), (260, 'Ladybird Ladybird (1994)'), (296, 'Priest (1994)'), (318, 'Strawberry and Chocolate (Fresa y chocolate) (1993)'), (356, 'I Love Trouble (1994)'), (457, 'Go Fish (1994)'), (480, 'Lassie (1994)'), (527, 'Secret Garden, The (1993)'), (589, 'Silence of the Lambs, The (1991)'), (593, 'Pretty Woman (1990)'), (608, 'Pallbearer, The (1996)'), (858, 'Kansas City (1996)'), (1097, 'Associate, The (1996)'), (1196, 'Alien (1979)'), (1197, 'Army of Darkness (1993)'), (1198, 'Big Blue, The (Le Grand Bleu) (1988)'), (1210, 'Raging Bull (1980)'), (1240, 'M (1931)'), (1265, 'Heathers (1989)'), (1270, 'Some Kind of Wonderful (1987)'), (1580, 'Wishmaster (1997)'), (1617, 'Stripes (1981)'), (2028, 'Something Wicked This Way Comes (1983)'), (2396, 'Deadly Friend (1986)'), (2571, 'Superman (1978)'), (2716, 'Tales of Terror (1962)'), (2762, 'Dog of Flanders, A (1999)'), (2858, 'Brief Encounter (1946)'), (2997, 'Tora! Tora! Tora! (1970)')]\n"
     ]
    }
   ],
   "source": [
    "# 그럼 내가 높게 준 다른 것도 높게 나오려나?\n",
    "\n",
    "print(\"내가 5점 준 영화들 :\",my_favorite_movies)\n",
    "display(ratings.tail())\n",
    "print(\"=======================================\")\n",
    "print(\"상위 30개 목록 :\",sorted(movie_dict.items()))"
   ]
  },
  {
   "cell_type": "code",
   "execution_count": 43,
   "metadata": {},
   "outputs": [
    {
     "data": {
      "text/plain": [
       "0.028930597"
      ]
     },
     "execution_count": 43,
     "metadata": {},
     "output_type": "execute_result"
    }
   ],
   "source": [
    "# # Alien에 대한 선호도 예측 --> Alien는 1196 입니당\n",
    "alien = movie_to_idx[1196]\n",
    "alien_vector = als_model.item_factors[alien]\n",
    "np.dot(sungjun_vector, alien_vector)\n",
    "\n",
    "# 결과는 구데기 of 구데기였다!!! --> 뭔가 문제가 있다!!\n"
   ]
  },
  {
   "cell_type": "code",
   "execution_count": 44,
   "metadata": {},
   "outputs": [
    {
     "name": "stdout",
     "output_type": "stream",
     "text": [
      "진짜진짜 쥬만지 : 661\n"
     ]
    },
    {
     "data": {
      "text/plain": [
       "0.7252029"
      ]
     },
     "execution_count": 44,
     "metadata": {},
     "output_type": "execute_result"
    }
   ],
   "source": [
    "# 에이씨 인자를 잘못 넣었고만...\n",
    "# print(sorted(movie_to_idx.items())) --> 내가 넣은 것은 쥬만지라는 movie_id가 아니라 1번 인덱스를 갖는 영화를 넣은 것\n",
    "\n",
    "# 진짜 쥬만지를 찾아봅시다.\n",
    "for idx, movie_id in movie_to_idx.items(): \n",
    "    if movie_id == 1:\n",
    "        print(\"진짜진짜 쥬만지 :\",idx)\n",
    "\n",
    "\n",
    "# 진짜 쥬만지는 661 이었다!!!!\n",
    "real_Jumanji = movie_to_idx[661]\n",
    "real_Jumanji_vector = als_model.item_factors[real_Jumanji]\n",
    "np.dot(sungjun_vector, real_Jumanji_vector)\n",
    "\n",
    "# 진짜 쥬만지의 값도 72퍼엿다!!! --> 잘못나온 거 아닌가? 값이 완전히 똑같은데?"
   ]
  },
  {
   "cell_type": "code",
   "execution_count": 46,
   "metadata": {},
   "outputs": [
    {
     "name": "stdout",
     "output_type": "stream",
     "text": [
      "가짜가짜 쥬만지 : 40\n",
      "Jumanji (1995)\n",
      "Richard III (1995)\n"
     ]
    }
   ],
   "source": [
    "# 아니 그러면 도대체 1번 인덱스 영화는 뭐길래...?\n",
    "\n",
    "for idx, movie_id in movie_to_idx.items(): \n",
    "    if idx == 1:\n",
    "        print(\"가짜가짜 쥬만지 :\",movie_id)\n",
    "\n",
    "print(movies['title'][1])\n",
    "print(movies['title'][40])\n",
    "\n",
    "# 박성준은 리차드 3세 라는 영화를 쥬만지만큼 좋아합니다."
   ]
  },
  {
   "cell_type": "code",
   "execution_count": 49,
   "metadata": {},
   "outputs": [
    {
     "name": "stdout",
     "output_type": "stream",
     "text": [
      "진짜진짜 에일리언 : 185\n"
     ]
    },
    {
     "data": {
      "text/plain": [
       "0.7804109"
      ]
     },
     "execution_count": 49,
     "metadata": {},
     "output_type": "execute_result"
    }
   ],
   "source": [
    "# Alien으로 다시 재도전합니다.\n",
    "\n",
    "for idx, movie_id in movie_to_idx.items(): \n",
    "    if movie_id == 1196:\n",
    "        print(\"진짜진짜 에일리언 :\",idx)\n",
    "        \n",
    "        \n",
    "real_alien = movie_to_idx[185]\n",
    "real_alien_vector = als_model.item_factors[real_alien]\n",
    "np.dot(sungjun_vector, real_alien_vector)\n",
    "\n",
    "# 좋아 정상이다."
   ]
  },
  {
   "cell_type": "markdown",
   "metadata": {},
   "source": [
    "### 7) 내가 좋아하는 영화와 비슷한 영화를 추천받아 봅시다."
   ]
  },
  {
   "cell_type": "code",
   "execution_count": 53,
   "metadata": {},
   "outputs": [
    {
     "name": "stdout",
     "output_type": "stream",
     "text": [
      "진짜진짜 양들의 침묵 : 918\n"
     ]
    },
    {
     "data": {
      "text/plain": [
       "[(589, 1.0000002),\n",
       " (2571, 0.76741177),\n",
       " (480, 0.7253054),\n",
       " (2916, 0.69922984),\n",
       " (1580, 0.63301027),\n",
       " (1240, 0.5898938),\n",
       " (457, 0.51452804),\n",
       " (110, 0.51249325),\n",
       " (1610, 0.45030692),\n",
       " (989, 0.43664956),\n",
       " (1573, 0.3955438),\n",
       " (1200, 0.3834329),\n",
       " (1214, 0.38044757),\n",
       " (1527, 0.359547),\n",
       " (1544, 0.35772797)]"
      ]
     },
     "execution_count": 53,
     "metadata": {},
     "output_type": "execute_result"
    }
   ],
   "source": [
    "# 내가 좋아하는 영화를 찾아 추천을 받아보자.\n",
    "# 우선 내가 좋아하는 영화 아이디가 뭔지부터 알아보자.\n",
    "# 난 양들의 침묵 (589)를 좋아한다.\n",
    "# 근데 진짜진짜 양들의 침묵 위치를 알아야겠지?\n",
    "\n",
    "for idx, movie_id in movie_to_idx.items(): \n",
    "    if movie_id == 589:\n",
    "        print(\"진짜진짜 양들의 침묵 :\",idx)\n",
    "\n",
    "# 양들의 침묵은 918 이다.\n",
    "favorite_movie = 918\n",
    "movie_id = movie_to_idx[favorite_movie]\n",
    "similar_movie = als_model.similar_items(movie_id, N=15)\n",
    "similar_movie"
   ]
  },
  {
   "cell_type": "code",
   "execution_count": 67,
   "metadata": {},
   "outputs": [
    {
     "name": "stdout",
     "output_type": "stream",
     "text": [
      "[918, 2276, 1223, 2965, 371, 381, 282, 1265, 1981, 3930, 1014, 11, 2906, 976, 3807]\n",
      "Desert Bloom (1986)\n",
      "Lassie (1994)\n"
     ]
    }
   ],
   "source": [
    "#artist_to_idx 를 뒤집어, index로부터 artist 이름을 얻는 dict를 생성합니다. \n",
    "idx_to_movie = {v:k for k,v in movie_to_idx.items()}\n",
    "\n",
    "new_list = []\n",
    "for i in similar_movie :\n",
    "    new_list.append(idx_to_movie[i[0]])\n",
    "\n",
    "print(new_list)\n",
    "\n",
    "print(movies['title'][2276])\n",
    "print(movies['title'][480]) # 아니 양들의 침묵은 범죄영화인데, 이렇게 아름답고 순수한 영화를 비슷한 영화라고 추천하다니.."
   ]
  },
  {
   "cell_type": "markdown",
   "metadata": {},
   "source": [
    "### 8) 내가 가장 좋아할 만한 영화들을 추천받아 봅시다."
   ]
  },
  {
   "cell_type": "code",
   "execution_count": 68,
   "metadata": {},
   "outputs": [
    {
     "data": {
      "text/plain": [
       "[(2664, 0.9969192),\n",
       " (3551, 0.9157687),\n",
       " (1247, 0.8898051),\n",
       " (2300, 0.82871354),\n",
       " (1196, 0.82859695),\n",
       " (1084, 0.8104147),\n",
       " (1036, 0.79854673),\n",
       " (1104, 0.7975377),\n",
       " (1103, 0.79647225),\n",
       " (2871, 0.79142416),\n",
       " (2571, 0.7840972),\n",
       " (3527, 0.783605),\n",
       " (2917, 0.77246714),\n",
       " (1394, 0.76930624),\n",
       " (1748, 0.768474),\n",
       " (1206, 0.76294184),\n",
       " (1228, 0.74534833),\n",
       " (1041, 0.7382301),\n",
       " (1, 0.73464775),\n",
       " (2819, 0.73256063)]"
      ]
     },
     "execution_count": 68,
     "metadata": {},
     "output_type": "execute_result"
    }
   ],
   "source": [
    "# 유저에게 아티스트 추천하기\n",
    "\n",
    "user = user_to_idx[6039]\n",
    "# recommend에서는 user*item CSR Matrix를 받습니다.\n",
    "movie_recommended = als_model.recommend(user, csr_data, N=20, filter_already_liked_items=True)\n",
    "movie_recommended"
   ]
  },
  {
   "cell_type": "code",
   "execution_count": 70,
   "metadata": {},
   "outputs": [
    {
     "name": "stdout",
     "output_type": "stream",
     "text": [
      "[809, 572, 463, 2361, 185, 1222, 3000, 2726, 674, 3240, 2276, 679, 2516, 3599, 188, 1888, 361, 2122, 661, 3339]\n",
      "Death in the Garden (Mort en ce jardin, La) (1956)\n"
     ]
    }
   ],
   "source": [
    "recommended_list = []\n",
    "for i in movie_recommended :\n",
    "    recommended_list.append(idx_to_movie[i[0]])\n",
    "\n",
    "print(recommended_list)\n",
    "print(movies['title'][809]) # 애련의 장미라니 초월번역 지렸다..\n",
    "\n"
   ]
  },
  {
   "cell_type": "code",
   "execution_count": 74,
   "metadata": {},
   "outputs": [
    {
     "name": "stdout",
     "output_type": "stream",
     "text": [
      "276\n",
      "707\n",
      "1739\n",
      "1285\n",
      "1199\n",
      "947\n",
      "212\n",
      "2342\n",
      "3184\n",
      "305\n",
      "Switchblade Sisters (1975)\n"
     ]
    }
   ],
   "source": [
    "rose  = movie_to_idx[809]\n",
    "explain = als_model.explain(user, csr_data, itemid=809)\n",
    "for i in explain[1] :\n",
    "    print(idx_to_movie[i[0]])\n",
    "    \n",
    "print(movies['title'][707]) # 너무 고전이라 감도 안온다."
   ]
  },
  {
   "cell_type": "code",
   "execution_count": null,
   "metadata": {},
   "outputs": [],
   "source": []
  }
 ],
 "metadata": {
  "kernelspec": {
   "display_name": "aiffel",
   "language": "python",
   "name": "aiffel"
  },
  "language_info": {
   "codemirror_mode": {
    "name": "ipython",
    "version": 3
   },
   "file_extension": ".py",
   "mimetype": "text/x-python",
   "name": "python",
   "nbconvert_exporter": "python",
   "pygments_lexer": "ipython3",
   "version": "3.7.9"
  }
 },
 "nbformat": 4,
 "nbformat_minor": 4
}
