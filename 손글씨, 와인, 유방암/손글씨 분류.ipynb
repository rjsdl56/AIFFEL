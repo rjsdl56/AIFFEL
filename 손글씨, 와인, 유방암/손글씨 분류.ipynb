{
 "cells": [
  {
   "cell_type": "markdown",
   "metadata": {},
   "source": [
    "# 손글씨 분류\n",
    "\n",
    "각 숫자마다 라벨링 값이 다름   \n",
    "특정 판단오류 (1종, 2종)의 중요성이 크지 않음\n",
    "\n",
    "## accuracy만 높으면 된다.\n",
    "\n",
    "# SVM이 가장 좋다."
   ]
  },
  {
   "cell_type": "code",
   "execution_count": 2,
   "metadata": {},
   "outputs": [],
   "source": [
    "# 모듈 import\n",
    "\n",
    "from sklearn.datasets import load_digits\n",
    "from sklearn.model_selection import train_test_split\n",
    "from sklearn.metrics import classification_report"
   ]
  },
  {
   "cell_type": "code",
   "execution_count": 3,
   "metadata": {},
   "outputs": [
    {
     "name": "stdout",
     "output_type": "stream",
     "text": [
      "<class 'list'>\n"
     ]
    }
   ],
   "source": [
    "# 데이터 준비\n",
    "digits = load_digits()\n",
    "print(type(dir(digits))) # 유형 확인\n",
    "\n"
   ]
  },
  {
   "cell_type": "code",
   "execution_count": 4,
   "metadata": {},
   "outputs": [
    {
     "name": "stdout",
     "output_type": "stream",
     "text": [
      "(1797, 64)\n",
      "(1797,)\n",
      "[0 1 2 3 4 5 6 7 8 9]\n",
      "\n",
      "요기서부터는 데이터 요약 정리 내용입니다.\n",
      ".. _digits_dataset:\n",
      "\n",
      "Optical recognition of handwritten digits dataset\n",
      "--------------------------------------------------\n",
      "\n",
      "**Data Set Characteristics:**\n",
      "\n",
      "    :Number of Instances: 5620\n",
      "    :Number of Attributes: 64\n",
      "    :Attribute Information: 8x8 image of integer pixels in the range 0..16.\n",
      "    :Missing Attribute Values: None\n",
      "    :Creator: E. Alpaydin (alpaydin '@' boun.edu.tr)\n",
      "    :Date: July; 1998\n",
      "\n",
      "This is a copy of the test set of the UCI ML hand-written digits datasets\n",
      "https://archive.ics.uci.edu/ml/datasets/Optical+Recognition+of+Handwritten+Digits\n",
      "\n",
      "The data set contains images of hand-written digits: 10 classes where\n",
      "each class refers to a digit.\n",
      "\n",
      "Preprocessing programs made available by NIST were used to extract\n",
      "normalized bitmaps of handwritten digits from a preprinted form. From a\n",
      "total of 43 people, 30 contributed to the training set and different 13\n",
      "to the test set. 32x32 bitmaps are divided into nonoverlapping blocks of\n",
      "4x4 and the number of on pixels are counted in each block. This generates\n",
      "an input matrix of 8x8 where each element is an integer in the range\n",
      "0..16. This reduces dimensionality and gives invariance to small\n",
      "distortions.\n",
      "\n",
      "For info on NIST preprocessing routines, see M. D. Garris, J. L. Blue, G.\n",
      "T. Candela, D. L. Dimmick, J. Geist, P. J. Grother, S. A. Janet, and C.\n",
      "L. Wilson, NIST Form-Based Handprint Recognition System, NISTIR 5469,\n",
      "1994.\n",
      "\n",
      ".. topic:: References\n",
      "\n",
      "  - C. Kaynak (1995) Methods of Combining Multiple Classifiers and Their\n",
      "    Applications to Handwritten Digit Recognition, MSc Thesis, Institute of\n",
      "    Graduate Studies in Science and Engineering, Bogazici University.\n",
      "  - E. Alpaydin, C. Kaynak (1998) Cascading Classifiers, Kybernetika.\n",
      "  - Ken Tang and Ponnuthurai N. Suganthan and Xi Yao and A. Kai Qin.\n",
      "    Linear dimensionalityreduction using relevance weighted LDA. School of\n",
      "    Electrical and Electronic Engineering Nanyang Technological University.\n",
      "    2005.\n",
      "  - Claudio Gentile. A New Approximate Maximal Margin Classification\n",
      "    Algorithm. NIPS. 2000.\n"
     ]
    }
   ],
   "source": [
    "# 데이터 이해하기 \n",
    "\n",
    "# Feature Data 지정하기\n",
    "# Label Data 지정하기\n",
    "# Target Names 출력해 보기\n",
    "# 데이터 Describe 해 보기\n",
    "\n",
    "digits_data = digits.data\n",
    "print(digits_data.shape) # 1797개 데이터, 8x8=64의 픽셀값\n",
    "\n",
    "digits_label = digits.target # 1797개 데이터에 대한 정답\n",
    "print(digits_label.shape) # 정답이니까 당연히 하나\n",
    "\n",
    "print(digits.target_names) # 정답값으로 어떤 것들이 있는지에 대한 탐색\n",
    "\n",
    "print()\n",
    "print(\"요기서부터는 데이터 요약 정리 내용입니다.\")\n",
    "\n",
    "print(digits.DESCR) # 데이터 간단요약정리!"
   ]
  },
  {
   "cell_type": "code",
   "execution_count": 5,
   "metadata": {},
   "outputs": [
    {
     "name": "stdout",
     "output_type": "stream",
     "text": [
      "X_train 개수:  1437 , X_test 개수:  360\n"
     ]
    }
   ],
   "source": [
    "# train, test 데이터 분리 -> 위에서 import 했으니 따로 패키지 설치 X\n",
    "# 모델 학습과 테스트용 문제지와 정답지를 준비해 봅시다.\n",
    "# X_train, X_test, y_train, y_test를 생성\n",
    "\n",
    "X_train, X_test, y_train, y_test = train_test_split(digits_data, \n",
    "                                                    digits_label, \n",
    "                                                    test_size=0.2, \n",
    "                                                    random_state=7)\n",
    "\n",
    "print('X_train 개수: ', len(X_train), ', X_test 개수: ', len(X_test))"
   ]
  },
  {
   "cell_type": "markdown",
   "metadata": {},
   "source": [
    "# 다양한 모델로 학습시켜보기"
   ]
  },
  {
   "cell_type": "code",
   "execution_count": 6,
   "metadata": {},
   "outputs": [
    {
     "name": "stdout",
     "output_type": "stream",
     "text": [
      "[6 0 5 3 2 9 0 4 1 0 1 8 2 5 2 8 1 8 3 1 0 2 0 4 5 3 3 0 0 4 1 4 4 4 6 1 4\n",
      " 0 6 6 0 5 3 6 6 2 0 1 9 6 2 8 2 9 0 2 0 8 4 6 8 5 8 7 2 7 7 2 2 4 5 5 4 6\n",
      " 2 0 3 3 7 5 8 2 4 4 2 5 1 4 3 7 6 3 1 5 6 2 1 0 1 1 4 5 1 3 1 6 9 0 3 7 6\n",
      " 9 3 8 0 1 3 8 8 6 3 7 3 9 0 9 0 9 3 1 2 2 3 6 9 4 0 1 8 3 9 1 0 8 5 0 7 2\n",
      " 7 4 4 9 2 2 6 0 4 4 9 5 0 2 4 4 2 2 3 7 2 9 0 3 5 9 9 6 8 4 5 3 0 4 2 1 3\n",
      " 3 6 0 8 1 4 1 4 7 5 7 6 6 8 1 0 6 1 7 1 1 9 8 5 5 3 6 6 1 2 0 7 5 3 0 8 2\n",
      " 0 4 0 9 4 6 4 7 9 5 3 6 2 5 2 5 9 3 9 9 2 2 1 6 4 1 7 5 9 8 9 5 7 4 3 7 4\n",
      " 8 2 8 9 5 3 2 1 0 4 2 1 0 1 4 1 7 6 4 7 7 9 8 3 8 4 3 5 9 4 4 8 1 8 7 2 3\n",
      " 2 1 1 0 2 8 0 7 4 3 1 0 2 3 9 9 8 5 6 2 2 6 5 0 8 9 8 9 0 0 4 7 4 1 9 6 7\n",
      " 3 7 4 0 2 1 7 6 5 3 2 3 5 7 1 4 1 3 3 8 8 1 0 1 9 8 0]\n",
      "[6 0 5 9 2 9 0 4 1 0 1 8 2 5 2 8 1 8 9 1 0 2 0 4 5 3 3 0 0 4 1 4 4 4 6 1 4\n",
      " 0 6 6 0 9 3 6 6 2 0 1 9 6 2 8 9 9 0 2 0 8 4 6 8 5 8 7 8 7 7 4 1 4 5 5 4 6\n",
      " 2 0 1 3 7 5 8 2 4 4 2 5 1 9 3 7 6 3 3 5 6 2 1 0 1 9 4 1 1 3 1 6 9 0 3 7 6\n",
      " 9 3 8 0 8 3 8 8 6 3 7 3 9 0 3 0 9 8 1 2 2 3 6 9 4 0 5 4 2 9 1 0 2 5 0 2 2\n",
      " 7 4 6 9 8 2 6 0 4 4 8 5 0 2 4 6 8 2 3 7 2 9 0 3 5 9 1 6 8 7 5 3 0 4 2 1 3\n",
      " 3 6 0 2 8 4 1 4 7 5 7 6 6 8 1 0 6 8 7 1 1 9 8 5 5 3 6 8 1 2 0 7 5 3 0 8 2\n",
      " 0 4 0 9 4 8 4 7 9 7 3 6 2 5 1 5 9 2 9 9 8 2 1 6 7 1 7 5 7 8 9 5 7 4 3 7 8\n",
      " 8 2 8 9 5 3 2 8 0 4 2 1 0 8 4 1 7 1 4 7 7 1 8 3 8 4 3 5 9 4 4 8 1 8 7 2 3\n",
      " 1 1 1 0 2 8 0 7 4 0 1 0 2 3 7 9 8 5 8 2 2 6 5 0 8 9 8 9 0 0 9 7 4 1 2 6 7\n",
      " 3 7 4 0 2 1 7 2 5 7 2 3 5 7 1 4 1 3 3 8 8 1 0 1 9 3 0]\n",
      "이렇게 보니까 너무 구려요!! 그럼 어떻게? ==> 정확도와 report는 따로 출력해봅시다\n",
      "\n",
      "\n",
      "\n",
      "정확도 : 0.8555555555555555\n",
      "\n",
      "\n",
      "\n",
      "Classification report 입니다\n",
      "              precision    recall  f1-score   support\n",
      "\n",
      "           0       1.00      0.98      0.99        43\n",
      "           1       0.81      0.81      0.81        42\n",
      "           2       0.79      0.82      0.80        40\n",
      "           3       0.79      0.91      0.85        34\n",
      "           4       0.83      0.95      0.89        37\n",
      "           5       0.90      0.96      0.93        28\n",
      "           6       0.84      0.93      0.88        28\n",
      "           7       0.96      0.82      0.89        33\n",
      "           8       0.88      0.65      0.75        43\n",
      "           9       0.78      0.78      0.78        32\n",
      "\n",
      "    accuracy                           0.86       360\n",
      "   macro avg       0.86      0.86      0.86       360\n",
      "weighted avg       0.86      0.86      0.85       360\n",
      "\n"
     ]
    },
    {
     "data": {
      "text/plain": [
       "array([[42,  0,  0,  1,  0,  0,  0,  0,  0,  0],\n",
       "       [ 0, 34,  3,  1,  0,  1,  1,  0,  0,  2],\n",
       "       [ 0,  0, 33,  2,  0,  0,  1,  1,  2,  1],\n",
       "       [ 0,  1,  0, 31,  0,  0,  0,  0,  1,  1],\n",
       "       [ 0,  0,  1,  0, 35,  0,  0,  0,  1,  0],\n",
       "       [ 0,  1,  0,  0,  0, 27,  0,  0,  0,  0],\n",
       "       [ 0,  0,  0,  0,  2,  0, 26,  0,  0,  0],\n",
       "       [ 0,  0,  0,  1,  2,  1,  0, 27,  0,  2],\n",
       "       [ 0,  5,  4,  1,  1,  0,  3,  0, 28,  1],\n",
       "       [ 0,  1,  1,  2,  2,  1,  0,  0,  0, 25]])"
      ]
     },
     "execution_count": 6,
     "metadata": {},
     "output_type": "execute_result"
    }
   ],
   "source": [
    "# Decision Tree 사용해 보기\n",
    "\n",
    "from sklearn.tree import DecisionTreeClassifier\n",
    "\n",
    "# 의사결정트리 정의 및 학습!\n",
    "decision_tree = DecisionTreeClassifier(random_state=32)\n",
    "decision_tree.fit(X_train, y_train)\n",
    "\n",
    "# 의사결정트리 예측!\n",
    "y_pred = decision_tree.predict(X_test)\n",
    "print(y_pred) # 예측값 출력\n",
    "print(y_test) # 정답값 출력\n",
    "\n",
    "print(\"이렇게 보니까 너무 구려요!! 그럼 어떻게? ==> 정확도와 report는 따로 출력해봅시다\")\n",
    "print(\"\\n\\n\")\n",
    "# 정확도만 봅시다\n",
    "from sklearn.metrics import accuracy_score\n",
    "accuracy1 = accuracy_score(y_test, y_pred)\n",
    "\n",
    "print(\"정확도 :\", accuracy1)\n",
    "print(\"\\n\\n\")\n",
    "# 이쁘게 리포트해봅시다\n",
    "print(\"Classification report 입니다\")\n",
    "print(classification_report(y_test, y_pred))\n"
   ]
  },
  {
   "cell_type": "code",
   "execution_count": 35,
   "metadata": {},
   "outputs": [
    {
     "name": "stdout",
     "output_type": "stream",
     "text": [
      "정확도 : 0.9694444444444444\n",
      "\n",
      "\n",
      "\n",
      "report\n",
      "              precision    recall  f1-score   support\n",
      "\n",
      "           0       1.00      1.00      1.00        36\n",
      "           1       0.97      1.00      0.99        36\n",
      "           2       1.00      1.00      1.00        33\n",
      "           3       1.00      0.95      0.97        40\n",
      "           4       0.98      1.00      0.99        40\n",
      "           5       0.95      0.97      0.96        37\n",
      "           6       1.00      0.94      0.97        35\n",
      "           7       1.00      0.95      0.97        38\n",
      "           8       0.88      0.94      0.91        31\n",
      "           9       0.91      0.94      0.93        34\n",
      "\n",
      "    accuracy                           0.97       360\n",
      "   macro avg       0.97      0.97      0.97       360\n",
      "weighted avg       0.97      0.97      0.97       360\n",
      "\n"
     ]
    }
   ],
   "source": [
    "# Random Forest 사용해 보기\n",
    "from sklearn.ensemble import RandomForestClassifier\n",
    "\n",
    "X_train, X_test, y_train, y_test = train_test_split(digits_data, \n",
    "                                                    digits_label, \n",
    "                                                    test_size=0.2, \n",
    "                                                    random_state=25)\n",
    "\n",
    "random_forest = RandomForestClassifier(random_state=32)\n",
    "random_forest.fit(X_train, y_train)\n",
    "y_pred = random_forest.predict(X_test)\n",
    "\n",
    "# 정확도만 봅시다\n",
    "from sklearn.metrics import accuracy_score\n",
    "accuracy2 = accuracy_score(y_test, y_pred)\n",
    "print(\"정확도 :\", accuracy2)\n",
    "print(\"\\n\\n\")\n",
    "\n",
    "print(\"report\")\n",
    "print(classification_report(y_test, y_pred))"
   ]
  },
  {
   "cell_type": "code",
   "execution_count": 36,
   "metadata": {},
   "outputs": [
    {
     "name": "stdout",
     "output_type": "stream",
     "text": [
      "정확도 : 0.9861111111111112\n",
      "\n",
      "\n",
      "\n",
      "report\n",
      "              precision    recall  f1-score   support\n",
      "\n",
      "           0       1.00      1.00      1.00        36\n",
      "           1       1.00      1.00      1.00        36\n",
      "           2       0.97      1.00      0.99        33\n",
      "           3       1.00      0.97      0.99        40\n",
      "           4       1.00      1.00      1.00        40\n",
      "           5       1.00      0.97      0.99        37\n",
      "           6       1.00      1.00      1.00        35\n",
      "           7       1.00      0.97      0.99        38\n",
      "           8       0.94      1.00      0.97        31\n",
      "           9       0.94      0.94      0.94        34\n",
      "\n",
      "    accuracy                           0.99       360\n",
      "   macro avg       0.99      0.99      0.99       360\n",
      "weighted avg       0.99      0.99      0.99       360\n",
      "\n"
     ]
    }
   ],
   "source": [
    "# SVM 사용해 보기\n",
    "from sklearn import svm\n",
    "X_train, X_test, y_train, y_test = train_test_split(digits_data, \n",
    "                                                    digits_label, \n",
    "                                                    test_size=0.2, \n",
    "                                                    random_state=25)\n",
    "\n",
    "svm_model = svm.SVC()\n",
    "svm_model.fit(X_train, y_train)\n",
    "y_pred = svm_model.predict(X_test)\n",
    "\n",
    "# 정확도만 봅시다\n",
    "from sklearn.metrics import accuracy_score\n",
    "accuracy3 = accuracy_score(y_test, y_pred)\n",
    "print(\"정확도 :\", accuracy3)\n",
    "print(\"\\n\\n\")\n",
    "\n",
    "print(\"report\")\n",
    "print(classification_report(y_test, y_pred))"
   ]
  },
  {
   "cell_type": "code",
   "execution_count": 37,
   "metadata": {},
   "outputs": [
    {
     "name": "stdout",
     "output_type": "stream",
     "text": [
      "정확도 : 0.9361111111111111\n",
      "\n",
      "\n",
      "\n",
      "report\n",
      "              precision    recall  f1-score   support\n",
      "\n",
      "           0       1.00      1.00      1.00        36\n",
      "           1       1.00      0.78      0.88        36\n",
      "           2       1.00      1.00      1.00        33\n",
      "           3       0.97      0.88      0.92        40\n",
      "           4       0.98      1.00      0.99        40\n",
      "           5       0.94      0.92      0.93        37\n",
      "           6       1.00      0.94      0.97        35\n",
      "           7       0.97      0.92      0.95        38\n",
      "           8       0.83      0.94      0.88        31\n",
      "           9       0.74      1.00      0.85        34\n",
      "\n",
      "    accuracy                           0.94       360\n",
      "   macro avg       0.94      0.94      0.94       360\n",
      "weighted avg       0.95      0.94      0.94       360\n",
      "\n"
     ]
    }
   ],
   "source": [
    "# SGD Classifier 사용해 보기\n",
    "from sklearn.linear_model import SGDClassifier\n",
    "\n",
    "X_train, X_test, y_train, y_test = train_test_split(digits_data, \n",
    "                                                    digits_label, \n",
    "                                                    test_size=0.2, \n",
    "                                                    random_state=25)\n",
    "\n",
    "sgd_model = SGDClassifier()\n",
    "sgd_model.fit(X_train, y_train)\n",
    "y_pred = sgd_model.predict(X_test)\n",
    "\n",
    "# 정확도만 봅시다\n",
    "from sklearn.metrics import accuracy_score\n",
    "accuracy4 = accuracy_score(y_test, y_pred)\n",
    "print(\"정확도 :\", accuracy4)\n",
    "print(\"\\n\\n\")\n",
    "\n",
    "print(\"report\")\n",
    "print(classification_report(y_test, y_pred))"
   ]
  },
  {
   "cell_type": "code",
   "execution_count": 39,
   "metadata": {},
   "outputs": [
    {
     "name": "stdout",
     "output_type": "stream",
     "text": [
      "정확도 : 0.9861111111111112\n",
      "\n",
      "\n",
      "\n",
      "report\n",
      "              precision    recall  f1-score   support\n",
      "\n",
      "           0       1.00      1.00      1.00        36\n",
      "           1       1.00      1.00      1.00        36\n",
      "           2       0.97      1.00      0.99        33\n",
      "           3       1.00      0.97      0.99        40\n",
      "           4       1.00      1.00      1.00        40\n",
      "           5       1.00      0.97      0.99        37\n",
      "           6       1.00      1.00      1.00        35\n",
      "           7       1.00      0.97      0.99        38\n",
      "           8       0.94      1.00      0.97        31\n",
      "           9       0.94      0.94      0.94        34\n",
      "\n",
      "    accuracy                           0.99       360\n",
      "   macro avg       0.99      0.99      0.99       360\n",
      "weighted avg       0.99      0.99      0.99       360\n",
      "\n"
     ]
    },
    {
     "name": "stderr",
     "output_type": "stream",
     "text": [
      "/home/aiffel/anaconda3/envs/aiffel/lib/python3.7/site-packages/sklearn/linear_model/_logistic.py:764: ConvergenceWarning: lbfgs failed to converge (status=1):\n",
      "STOP: TOTAL NO. of ITERATIONS REACHED LIMIT.\n",
      "\n",
      "Increase the number of iterations (max_iter) or scale the data as shown in:\n",
      "    https://scikit-learn.org/stable/modules/preprocessing.html\n",
      "Please also refer to the documentation for alternative solver options:\n",
      "    https://scikit-learn.org/stable/modules/linear_model.html#logistic-regression\n",
      "  extra_warning_msg=_LOGISTIC_SOLVER_CONVERGENCE_MSG)\n"
     ]
    }
   ],
   "source": [
    "# Logistic Regression 사용해 보기\n",
    "from sklearn.linear_model import LogisticRegression\n",
    "\n",
    "X_train, X_test, y_train, y_test = train_test_split(digits_data, \n",
    "                                                    digits_label, \n",
    "                                                    test_size=0.2, \n",
    "                                                    random_state=25)\n",
    "\n",
    "logistic_model = LogisticRegression()\n",
    "logistic_model.fit(X_train, y_train)\n",
    "y_pred = svm_model.predict(X_test)\n",
    "\n",
    "# 정확도만 봅시다\n",
    "from sklearn.metrics import accuracy_score\n",
    "accuracy5 = accuracy_score(y_test, y_pred)\n",
    "print(\"정확도 :\", accuracy5)\n",
    "print(\"\\n\\n\")\n",
    "\n",
    "print(\"report\")\n",
    "print(classification_report(y_test, y_pred))"
   ]
  },
  {
   "cell_type": "code",
   "execution_count": 40,
   "metadata": {},
   "outputs": [
    {
     "name": "stdout",
     "output_type": "stream",
     "text": [
      "Decision Tree 정확도 :  0.8555555555555555\n",
      "Random Forest :  0.9694444444444444\n",
      "SVM 사용해 보기 :  0.9861111111111112\n",
      "SGD Classifier :  0.9361111111111111\n",
      "Logistic Regression :  0.9861111111111112\n"
     ]
    }
   ],
   "source": [
    "# 정확도 비교\n",
    "print('Decision Tree 정확도 : ', accuracy1)\n",
    "print('Random Forest : ', accuracy2)\n",
    "print('SVM 사용해 보기 : ', accuracy3)\n",
    "print('SGD Classifier : ' , accuracy4)\n",
    "print('Logistic Regression : ', accuracy5)"
   ]
  },
  {
   "cell_type": "markdown",
   "metadata": {},
   "source": []
  }
 ],
 "metadata": {
  "kernelspec": {
   "display_name": "aiffel",
   "language": "python",
   "name": "aiffel"
  },
  "language_info": {
   "codemirror_mode": {
    "name": "ipython",
    "version": 3
   },
   "file_extension": ".py",
   "mimetype": "text/x-python",
   "name": "python",
   "nbconvert_exporter": "python",
   "pygments_lexer": "ipython3",
   "version": "3.7.9"
  }
 },
 "nbformat": 4,
 "nbformat_minor": 4
}
