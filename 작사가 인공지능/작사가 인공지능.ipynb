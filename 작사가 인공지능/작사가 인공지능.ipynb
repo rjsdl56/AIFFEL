{
 "cells": [
  {
   "cell_type": "code",
   "execution_count": null,
   "metadata": {},
   "outputs": [],
   "source": [
    "# 노드를 베껴봅시다.\n",
    "\n",
    "# 셰익스피어 극본으로 해보기"
   ]
  },
  {
   "cell_type": "code",
   "execution_count": 1,
   "metadata": {},
   "outputs": [
    {
     "name": "stdout",
     "output_type": "stream",
     "text": [
      "['First Citizen:', 'Before we proceed any further, hear me speak.', '', 'All:', 'Speak, speak.', '', 'First Citizen:', 'You are all resolved rather to die than to famish?', '']\n"
     ]
    }
   ],
   "source": [
    "import re                  # 정규표현식을 위한 Regex 지원 모듈 (문장 데이터를 정돈하기 위해) \n",
    "import numpy as np         # 변환된 문장 데이터(행렬)을 편하게 처리하기 위해\n",
    "import tensorflow as tf    # 대망의 텐서플로우!\n",
    "import os\n",
    "\n",
    "# 파일을 읽기모드로 열어 봅니다.\n",
    "file_path = os.getenv('HOME') + '/aiffel/lyricist/data/shakespeare.txt'\n",
    "with open(file_path, \"r\") as f:\n",
    "    raw_corpus = f.read().splitlines()   # 텍스트를 라인 단위로 끊어서 list 형태로 읽어옵니다.\n",
    "\n",
    "print(raw_corpus[:9])    # 앞에서부터 10라인만 화면에 출력해 볼까요?"
   ]
  },
  {
   "cell_type": "code",
   "execution_count": 2,
   "metadata": {},
   "outputs": [
    {
     "name": "stdout",
     "output_type": "stream",
     "text": [
      "Before we proceed any further, hear me speak.\n",
      "Speak, speak.\n",
      "You are all resolved rather to die than to famish?\n"
     ]
    }
   ],
   "source": [
    "for idx, sentence in enumerate(raw_corpus):\n",
    "    if len(sentence) == 0: continue   # 길이가 0인 문장은 건너뜁니다.\n",
    "    if sentence[-1] == \":\": continue  # 문장의 끝이 : 인 문장은 건너뜁니다.\n",
    "\n",
    "    if idx > 9: break   # 일단 문장 10개만 확인해 볼 겁니다.\n",
    "        \n",
    "    print(sentence)"
   ]
  },
  {
   "cell_type": "code",
   "execution_count": 3,
   "metadata": {},
   "outputs": [
    {
     "name": "stdout",
     "output_type": "stream",
     "text": [
      "<start> this is sample sentence . <end>\n"
     ]
    }
   ],
   "source": [
    "def preprocess_sentence(sentence):\n",
    "    sentence = sentence.lower().strip()       # 소문자로 바꾸고 양쪽 공백을 삭제\n",
    "  \n",
    "    # 아래 3단계를 거쳐 sentence는 스페이스 1개를 delimeter로 하는 소문자 단어 시퀀스로 바뀝니다.\n",
    "    sentence = re.sub(r\"([?.!,¿])\", r\" \\1 \", sentence)        # 패턴의 특수문자를 만나면 특수문자 양쪽에 공백을 추가\n",
    "    sentence = re.sub(r'[\" \"]+', \" \", sentence)                  # 공백 패턴을 만나면 스페이스 1개로 치환\n",
    "    sentence = re.sub(r\"[^a-zA-Z?.!,¿]+\", \" \", sentence)  # a-zA-Z?.!,¿ 패턴을 제외한 모든 문자(공백문자까지도)를 스페이스 1개로 치환\n",
    "\n",
    "    sentence = sentence.strip()\n",
    "\n",
    "    sentence = '<start> ' + sentence + ' <end>'      # 이전 스텝에서 본 것처럼 문장 앞뒤로 <start>와 <end>를 단어처럼 붙여 줍니다\n",
    "    \n",
    "    return sentence\n",
    "\n",
    "print(preprocess_sentence(\"This @_is ;;;sample        sentence.\"))   # 이 문장이 어떻게 필터링되는지 확인해 보세요."
   ]
  },
  {
   "cell_type": "code",
   "execution_count": 4,
   "metadata": {},
   "outputs": [
    {
     "data": {
      "text/plain": [
       "['<start> before we proceed any further , hear me speak . <end>',\n",
       " '<start> speak , speak . <end>',\n",
       " '<start> you are all resolved rather to die than to famish ? <end>',\n",
       " '<start> resolved . resolved . <end>',\n",
       " '<start> first , you know caius marcius is chief enemy to the people . <end>',\n",
       " '<start> we know t , we know t . <end>',\n",
       " '<start> let us kill him , and we ll have corn at our own price . <end>',\n",
       " '<start> is t a verdict ? <end>',\n",
       " '<start> no more talking on t let it be done away , away ! <end>',\n",
       " '<start> one word , good citizens . <end>']"
      ]
     },
     "execution_count": 4,
     "metadata": {},
     "output_type": "execute_result"
    }
   ],
   "source": [
    "corpus = []\n",
    "\n",
    "for sentence in raw_corpus:\n",
    "    if len(sentence) == 0: continue\n",
    "    if sentence[-1] == \":\": continue\n",
    "        \n",
    "    corpus.append(preprocess_sentence(sentence))\n",
    "        \n",
    "corpus[:10]"
   ]
  },
  {
   "cell_type": "code",
   "execution_count": 5,
   "metadata": {},
   "outputs": [
    {
     "name": "stdout",
     "output_type": "stream",
     "text": [
      "[[   2  143   40 ...    0    0    0]\n",
      " [   2  110    4 ...    0    0    0]\n",
      " [   2   11   50 ...    0    0    0]\n",
      " ...\n",
      " [   2  149 4553 ...    0    0    0]\n",
      " [   2   34   71 ...    0    0    0]\n",
      " [   2  945   34 ...    0    0    0]] <keras_preprocessing.text.Tokenizer object at 0x7fb6c01ee650>\n"
     ]
    }
   ],
   "source": [
    "def tokenize(corpus):\n",
    "    # 텐서플로우에서 제공하는 Tokenizer 패키지를 생성\n",
    "    tokenizer = tf.keras.preprocessing.text.Tokenizer(\n",
    "        num_words=7000,  # 전체 단어의 개수 \n",
    "        filters=' ',    # 별도로 전처리 로직을 추가할 수 있습니다. 이번에는 사용하지 않겠습니다.\n",
    "        oov_token=\"<unk>\"  # out-of-vocabulary, 사전에 없었던 단어는 어떤 토큰으로 대체할지\n",
    "    )\n",
    "    tokenizer.fit_on_texts(corpus)   # 우리가 구축한 corpus로부터 Tokenizer가 사전을 자동구축하게 됩니다.\n",
    "\n",
    "    # 이후 tokenizer를 활용하여 모델에 입력할 데이터셋을 구축하게 됩니다.\n",
    "    tensor = tokenizer.texts_to_sequences(corpus)   # tokenizer는 구축한 사전으로부터 corpus를 해석해 Tensor로 변환합니다.\n",
    "\n",
    "    # 입력 데이터의 시퀀스 길이를 일정하게 맞추기 위한 padding  메소드를 제공합니다.\n",
    "    # maxlen의 디폴트값은 None입니다. 이 경우 corpus의 가장 긴 문장을 기준으로 시퀀스 길이가 맞춰집니다.\n",
    "    tensor = tf.keras.preprocessing.sequence.pad_sequences(tensor, padding='post')  \n",
    "\n",
    "    print(tensor,tokenizer)\n",
    "    return tensor, tokenizer\n",
    "\n",
    "tensor, tokenizer = tokenize(corpus)"
   ]
  },
  {
   "cell_type": "code",
   "execution_count": 6,
   "metadata": {},
   "outputs": [
    {
     "name": "stdout",
     "output_type": "stream",
     "text": [
      "[[   2  143   40  933  140  591    4  124   24  110]\n",
      " [   2  110    4  110    5    3    0    0    0    0]\n",
      " [   2   11   50   43 1201  316    9  201   74    9]]\n"
     ]
    }
   ],
   "source": [
    "print(tensor[:3, :10])"
   ]
  },
  {
   "cell_type": "code",
   "execution_count": 7,
   "metadata": {},
   "outputs": [
    {
     "name": "stdout",
     "output_type": "stream",
     "text": [
      "1 : <unk>\n",
      "2 : <start>\n",
      "3 : <end>\n",
      "4 : ,\n",
      "5 : .\n",
      "6 : the\n",
      "7 : and\n",
      "8 : i\n",
      "9 : to\n",
      "10 : of\n"
     ]
    }
   ],
   "source": [
    "for idx in tokenizer.index_word:\n",
    "    print(idx, \":\", tokenizer.index_word[idx])\n",
    "\n",
    "    if idx >= 10: break"
   ]
  },
  {
   "cell_type": "code",
   "execution_count": 8,
   "metadata": {},
   "outputs": [
    {
     "name": "stdout",
     "output_type": "stream",
     "text": [
      "[  2 143  40 933 140 591   4 124  24 110   5   3   0   0   0   0   0   0\n",
      "   0   0]\n",
      "[143  40 933 140 591   4 124  24 110   5   3   0   0   0   0   0   0   0\n",
      "   0   0]\n"
     ]
    }
   ],
   "source": [
    "src_input = tensor[:, :-1]  # tensor에서 마지막 토큰을 잘라내서 소스 문장을 생성합니다. 마지막 토큰은 <end>가 아니라 <pad>일 가능성이 높습니다.\n",
    "tgt_input = tensor[:, 1:]    # tensor에서 <start>를 잘라내서 타겟 문장을 생성합니다.\n",
    "\n",
    "print(src_input[0])\n",
    "print(tgt_input[0])"
   ]
  },
  {
   "cell_type": "code",
   "execution_count": 9,
   "metadata": {},
   "outputs": [
    {
     "data": {
      "text/plain": [
       "<BatchDataset shapes: ((256, 20), (256, 20)), types: (tf.int32, tf.int32)>"
      ]
     },
     "execution_count": 9,
     "metadata": {},
     "output_type": "execute_result"
    }
   ],
   "source": [
    "BUFFER_SIZE = len(src_input)\n",
    "BATCH_SIZE = 256\n",
    "steps_per_epoch = len(src_input) // BATCH_SIZE\n",
    "\n",
    "VOCAB_SIZE = tokenizer.num_words + 1    # tokenizer가 구축한 단어사전 내 7000개와, 여기 포함되지 않은 0:<pad>를 포함하여 7001개\n",
    "\n",
    "dataset = tf.data.Dataset.from_tensor_slices((src_input, tgt_input)).shuffle(BUFFER_SIZE)\n",
    "dataset = dataset.batch(BATCH_SIZE, drop_remainder=True)\n",
    "dataset"
   ]
  },
  {
   "cell_type": "code",
   "execution_count": 10,
   "metadata": {},
   "outputs": [],
   "source": [
    "class TextGenerator(tf.keras.Model):\n",
    "    def __init__(self, vocab_size, embedding_size, hidden_size):\n",
    "        super(TextGenerator, self).__init__()\n",
    "        \n",
    "        self.embedding = tf.keras.layers.Embedding(vocab_size, embedding_size)\n",
    "        self.rnn_1 = tf.keras.layers.LSTM(hidden_size, return_sequences=True)\n",
    "        self.rnn_2 = tf.keras.layers.LSTM(hidden_size, return_sequences=True)\n",
    "        self.linear = tf.keras.layers.Dense(vocab_size)\n",
    "        \n",
    "    def call(self, x):\n",
    "        out = self.embedding(x)\n",
    "        out = self.rnn_1(out)\n",
    "        out = self.rnn_2(out)\n",
    "        out = self.linear(out)\n",
    "        \n",
    "        return out\n",
    "    \n",
    "embedding_size = 64\n",
    "hidden_size = 256\n",
    "model = TextGenerator(tokenizer.num_words + 1, embedding_size , hidden_size)"
   ]
  },
  {
   "cell_type": "code",
   "execution_count": 11,
   "metadata": {},
   "outputs": [
    {
     "data": {
      "text/plain": [
       "<tf.Tensor: shape=(256, 20, 7001), dtype=float32, numpy=\n",
       "array([[[ 1.24550046e-04, -4.09634995e-05,  9.09482624e-05, ...,\n",
       "         -1.21288896e-04, -1.03282509e-04,  6.80102239e-05],\n",
       "        [ 2.40500318e-04,  8.90112715e-05,  7.60124676e-05, ...,\n",
       "         -1.30774060e-04, -1.03923754e-04, -3.03691595e-05],\n",
       "        [ 3.12552584e-04,  1.56459922e-04, -6.14320234e-05, ...,\n",
       "         -8.02280920e-05, -3.61836312e-04, -2.15772845e-04],\n",
       "        ...,\n",
       "        [ 4.07664746e-04, -5.55898063e-04, -4.07347077e-04, ...,\n",
       "          1.33373134e-03, -8.58908694e-04, -3.79991950e-04],\n",
       "        [ 4.03730053e-04, -4.69660707e-04, -2.89484335e-04, ...,\n",
       "          1.53105205e-03, -1.00450905e-03, -4.47342929e-04],\n",
       "        [ 4.04121558e-04, -3.66207649e-04, -1.62985787e-04, ...,\n",
       "          1.71496929e-03, -1.12235302e-03, -5.09756501e-04]],\n",
       "\n",
       "       [[ 1.24550046e-04, -4.09634995e-05,  9.09482624e-05, ...,\n",
       "         -1.21288896e-04, -1.03282509e-04,  6.80102239e-05],\n",
       "        [ 2.04366195e-04, -1.76652204e-04,  2.94254191e-04, ...,\n",
       "         -2.47198564e-04, -1.19065058e-04,  5.55740335e-05],\n",
       "        [ 3.46873654e-04, -2.68631557e-04,  1.43368758e-04, ...,\n",
       "         -1.97512316e-04, -5.14165476e-05,  9.24508697e-07],\n",
       "        ...,\n",
       "        [ 7.14237220e-04, -1.52569672e-04,  1.83395809e-04, ...,\n",
       "          2.23667524e-03, -1.46216981e-03, -9.58167133e-04],\n",
       "        [ 6.94596674e-04, -3.92484653e-05,  3.07109527e-04, ...,\n",
       "          2.34202063e-03, -1.47451286e-03, -9.71417292e-04],\n",
       "        [ 6.78315526e-04,  6.34295575e-05,  4.24548169e-04, ...,\n",
       "          2.43781414e-03, -1.47340877e-03, -9.83809819e-04]],\n",
       "\n",
       "       [[ 1.24550046e-04, -4.09634995e-05,  9.09482624e-05, ...,\n",
       "         -1.21288896e-04, -1.03282509e-04,  6.80102239e-05],\n",
       "        [ 2.43663148e-04, -7.91932835e-05,  5.13675550e-05, ...,\n",
       "         -2.30500067e-04, -1.32124085e-04,  2.22435283e-05],\n",
       "        [ 4.39750263e-04, -2.47406308e-04, -6.79663572e-05, ...,\n",
       "         -1.59449803e-04, -3.23070999e-04, -2.35170100e-05],\n",
       "        ...,\n",
       "        [ 4.29622800e-04, -1.15562842e-04, -1.21963138e-04, ...,\n",
       "          2.14251364e-03, -1.34875986e-03, -8.25393130e-04],\n",
       "        [ 4.43634635e-04, -3.80242418e-05,  1.35032442e-05, ...,\n",
       "          2.25274824e-03, -1.39739411e-03, -8.44757014e-04],\n",
       "        [ 4.58674651e-04,  3.95245297e-05,  1.47080049e-04, ...,\n",
       "          2.35277042e-03, -1.42697361e-03, -8.63620488e-04]],\n",
       "\n",
       "       ...,\n",
       "\n",
       "       [[ 1.24550046e-04, -4.09634995e-05,  9.09482624e-05, ...,\n",
       "         -1.21288896e-04, -1.03282509e-04,  6.80102239e-05],\n",
       "        [ 1.73757449e-04,  1.61487878e-06,  1.83438140e-04, ...,\n",
       "         -3.28054011e-04, -2.90837896e-04,  2.49422767e-04],\n",
       "        [-1.43034285e-05, -1.74121087e-05,  3.60037346e-04, ...,\n",
       "         -3.07946932e-04, -2.74364080e-04,  2.24587391e-04],\n",
       "        ...,\n",
       "        [ 5.26152726e-04, -9.53923591e-05, -7.24549696e-04, ...,\n",
       "          1.36873184e-03, -1.18565490e-03, -7.08132749e-04],\n",
       "        [ 5.42186492e-04, -3.61550774e-05, -5.58964966e-04, ...,\n",
       "          1.57621014e-03, -1.32227445e-03, -7.67383201e-04],\n",
       "        [ 5.56711573e-04,  3.26366426e-05, -3.86533909e-04, ...,\n",
       "          1.76394393e-03, -1.42451911e-03, -8.17956286e-04]],\n",
       "\n",
       "       [[ 1.24550046e-04, -4.09634995e-05,  9.09482624e-05, ...,\n",
       "         -1.21288896e-04, -1.03282509e-04,  6.80102239e-05],\n",
       "        [ 2.58180749e-04, -1.88501625e-04,  2.70615099e-04, ...,\n",
       "         -1.25236838e-04, -1.56742550e-04,  2.98450817e-04],\n",
       "        [ 3.90061847e-04, -2.33347615e-04,  2.83351896e-04, ...,\n",
       "         -1.42971505e-04, -1.57102462e-04,  1.37409181e-04],\n",
       "        ...,\n",
       "        [ 4.43917816e-04, -1.56706974e-05,  5.18818211e-04, ...,\n",
       "          2.20558257e-03, -1.66110531e-03, -8.91891483e-04],\n",
       "        [ 4.53019282e-04,  7.73712964e-05,  5.97742968e-04, ...,\n",
       "          2.31607258e-03, -1.63432281e-03, -9.12955380e-04],\n",
       "        [ 4.64982149e-04,  1.61259406e-04,  6.74880284e-04, ...,\n",
       "          2.41602422e-03, -1.60158996e-03, -9.33898787e-04]],\n",
       "\n",
       "       [[ 1.24550046e-04, -4.09634995e-05,  9.09482624e-05, ...,\n",
       "         -1.21288896e-04, -1.03282509e-04,  6.80102239e-05],\n",
       "        [ 1.88038219e-04, -2.29540441e-04,  1.24269907e-04, ...,\n",
       "         -7.08152947e-05, -1.31192530e-04,  8.74059333e-05],\n",
       "        [ 3.07148293e-04, -4.60146053e-04,  2.13658728e-04, ...,\n",
       "         -3.55789271e-05, -2.74118123e-04,  1.04193190e-04],\n",
       "        ...,\n",
       "        [ 1.27441937e-03, -8.43070098e-04, -1.03713595e-03, ...,\n",
       "          1.01232401e-03, -7.91798811e-04, -4.16946947e-04],\n",
       "        [ 1.21705502e-03, -8.09502846e-04, -9.04791057e-04, ...,\n",
       "          1.21236010e-03, -9.43762891e-04, -5.24558942e-04],\n",
       "        [ 1.15662988e-03, -7.38163595e-04, -7.44222663e-04, ...,\n",
       "          1.40829757e-03, -1.07366045e-03, -6.16528327e-04]]],\n",
       "      dtype=float32)>"
      ]
     },
     "execution_count": 11,
     "metadata": {},
     "output_type": "execute_result"
    }
   ],
   "source": [
    "for src_sample, tgt_sample in dataset.take(1): break\n",
    "model(src_sample)"
   ]
  },
  {
   "cell_type": "code",
   "execution_count": 12,
   "metadata": {},
   "outputs": [
    {
     "name": "stdout",
     "output_type": "stream",
     "text": [
      "Model: \"text_generator\"\n",
      "_________________________________________________________________\n",
      "Layer (type)                 Output Shape              Param #   \n",
      "=================================================================\n",
      "embedding (Embedding)        multiple                  448064    \n",
      "_________________________________________________________________\n",
      "lstm (LSTM)                  multiple                  328704    \n",
      "_________________________________________________________________\n",
      "lstm_1 (LSTM)                multiple                  525312    \n",
      "_________________________________________________________________\n",
      "dense (Dense)                multiple                  1799257   \n",
      "=================================================================\n",
      "Total params: 3,101,337\n",
      "Trainable params: 3,101,337\n",
      "Non-trainable params: 0\n",
      "_________________________________________________________________\n"
     ]
    }
   ],
   "source": [
    "model.summary()"
   ]
  },
  {
   "cell_type": "code",
   "execution_count": 13,
   "metadata": {},
   "outputs": [
    {
     "name": "stdout",
     "output_type": "stream",
     "text": [
      "Epoch 1/30\n",
      "93/93 [==============================] - 3s 34ms/step - loss: 4.3109\n",
      "Epoch 2/30\n",
      "93/93 [==============================] - 3s 34ms/step - loss: 3.3551\n",
      "Epoch 3/30\n",
      "93/93 [==============================] - 3s 35ms/step - loss: 3.0986\n",
      "Epoch 4/30\n",
      "93/93 [==============================] - 3s 35ms/step - loss: 2.9267\n",
      "Epoch 5/30\n",
      "93/93 [==============================] - 3s 35ms/step - loss: 2.8422\n",
      "Epoch 6/30\n",
      "93/93 [==============================] - 3s 35ms/step - loss: 2.8162\n",
      "Epoch 7/30\n",
      "93/93 [==============================] - 3s 35ms/step - loss: 2.7868\n",
      "Epoch 8/30\n",
      "93/93 [==============================] - 3s 35ms/step - loss: 2.7502\n",
      "Epoch 9/30\n",
      "93/93 [==============================] - 3s 35ms/step - loss: 2.7129\n",
      "Epoch 10/30\n",
      "93/93 [==============================] - 3s 35ms/step - loss: 2.6731\n",
      "Epoch 11/30\n",
      "93/93 [==============================] - 3s 35ms/step - loss: 2.6428\n",
      "Epoch 12/30\n",
      "93/93 [==============================] - 3s 36ms/step - loss: 2.6134\n",
      "Epoch 13/30\n",
      "93/93 [==============================] - 3s 36ms/step - loss: 2.5886\n",
      "Epoch 14/30\n",
      "93/93 [==============================] - 3s 36ms/step - loss: 2.5689\n",
      "Epoch 15/30\n",
      "93/93 [==============================] - 3s 36ms/step - loss: 2.5486\n",
      "Epoch 16/30\n",
      "93/93 [==============================] - 3s 35ms/step - loss: 2.5307\n",
      "Epoch 17/30\n",
      "93/93 [==============================] - 3s 36ms/step - loss: 2.5124\n",
      "Epoch 18/30\n",
      "93/93 [==============================] - 3s 36ms/step - loss: 2.4961\n",
      "Epoch 19/30\n",
      "93/93 [==============================] - 3s 36ms/step - loss: 2.4794\n",
      "Epoch 20/30\n",
      "93/93 [==============================] - 3s 36ms/step - loss: 2.4626\n",
      "Epoch 21/30\n",
      "93/93 [==============================] - 3s 36ms/step - loss: 2.4480\n",
      "Epoch 22/30\n",
      "93/93 [==============================] - 3s 36ms/step - loss: 2.4330\n",
      "Epoch 23/30\n",
      "93/93 [==============================] - 3s 36ms/step - loss: 2.4181\n",
      "Epoch 24/30\n",
      "93/93 [==============================] - 3s 36ms/step - loss: 2.4047\n",
      "Epoch 25/30\n",
      "93/93 [==============================] - 3s 36ms/step - loss: 2.3921\n",
      "Epoch 26/30\n",
      "93/93 [==============================] - 3s 36ms/step - loss: 2.3795\n",
      "Epoch 27/30\n",
      "93/93 [==============================] - 3s 36ms/step - loss: 2.3659\n",
      "Epoch 28/30\n",
      "93/93 [==============================] - 3s 36ms/step - loss: 2.3527\n",
      "Epoch 29/30\n",
      "93/93 [==============================] - 3s 36ms/step - loss: 2.3411\n",
      "Epoch 30/30\n",
      "93/93 [==============================] - 3s 36ms/step - loss: 2.3300\n"
     ]
    },
    {
     "data": {
      "text/plain": [
       "<tensorflow.python.keras.callbacks.History at 0x7fb63ed30350>"
      ]
     },
     "execution_count": 13,
     "metadata": {},
     "output_type": "execute_result"
    }
   ],
   "source": [
    "optimizer = tf.keras.optimizers.Adam()\n",
    "loss = tf.keras.losses.SparseCategoricalCrossentropy(\n",
    "    from_logits=True,\n",
    "    reduction='none'\n",
    ")\n",
    "\n",
    "model.compile(loss=loss, optimizer=optimizer)\n",
    "model.fit(dataset, epochs=30)"
   ]
  },
  {
   "cell_type": "code",
   "execution_count": 14,
   "metadata": {},
   "outputs": [],
   "source": [
    "def generate_text(model, tokenizer, init_sentence=\"<start>\", max_len=20):\n",
    "    # 테스트를 위해서 입력받은 init_sentence도 일단 텐서로 변환합니다.\n",
    "    test_input = tokenizer.texts_to_sequences([init_sentence])\n",
    "    test_tensor = tf.convert_to_tensor(test_input, dtype=tf.int64)\n",
    "    end_token = tokenizer.word_index[\"<end>\"]\n",
    "\n",
    "    # 텍스트를 실제로 생성할때는 루프를 돌면서 단어 하나씩 생성해야 합니다. \n",
    "    while True:\n",
    "        predict = model(test_tensor)  # 입력받은 문장의 텐서를 입력합니다. \n",
    "        predict_word = tf.argmax(tf.nn.softmax(predict, axis=-1), axis=-1)[:, -1]   # 우리 모델이 예측한 마지막 단어가 바로 새롭게 생성한 단어가 됩니다. \n",
    "\n",
    "        # 우리 모델이 새롭게 예측한 단어를 입력 문장의 뒤에 붙여 줍니다. \n",
    "        test_tensor = tf.concat([test_tensor, \n",
    "\t\t\t\t\t\t\t\t\t\t\t\t\t\t\t\t tf.expand_dims(predict_word, axis=0)], axis=-1)\n",
    "\n",
    "        # 우리 모델이 <end>를 예측했거나, max_len에 도달하지 않았다면  while 루프를 또 돌면서 다음 단어를 예측해야 합니다.\n",
    "        if predict_word.numpy()[0] == end_token: break\n",
    "        if test_tensor.shape[1] >= max_len: break\n",
    "\n",
    "    generated = \"\"\n",
    "    # 생성된 tensor 안에 있는 word index를 tokenizer.index_word 사전을 통해 실제 단어로 하나씩 변환합니다. \n",
    "    for word_index in test_tensor[0].numpy():\n",
    "        generated += tokenizer.index_word[word_index] + \" \"\n",
    "\n",
    "    return generated   # 이것이 최종적으로 모델이 생성한 자연어 문장입니다."
   ]
  },
  {
   "cell_type": "code",
   "execution_count": 16,
   "metadata": {},
   "outputs": [
    {
     "data": {
      "text/plain": [
       "'<start> tell me , sir , i ll be a <unk> of the king <end> '"
      ]
     },
     "execution_count": 16,
     "metadata": {},
     "output_type": "execute_result"
    }
   ],
   "source": [
    "generate_text(model, tokenizer, init_sentence=\"<start> Tell\")"
   ]
  },
  {
   "cell_type": "code",
   "execution_count": null,
   "metadata": {},
   "outputs": [],
   "source": []
  },
  {
   "cell_type": "code",
   "execution_count": null,
   "metadata": {},
   "outputs": [],
   "source": []
  },
  {
   "cell_type": "code",
   "execution_count": null,
   "metadata": {},
   "outputs": [],
   "source": []
  },
  {
   "cell_type": "code",
   "execution_count": null,
   "metadata": {},
   "outputs": [],
   "source": []
  },
  {
   "cell_type": "code",
   "execution_count": null,
   "metadata": {},
   "outputs": [],
   "source": []
  },
  {
   "cell_type": "code",
   "execution_count": null,
   "metadata": {},
   "outputs": [],
   "source": []
  },
  {
   "cell_type": "code",
   "execution_count": null,
   "metadata": {},
   "outputs": [],
   "source": []
  },
  {
   "cell_type": "code",
   "execution_count": null,
   "metadata": {},
   "outputs": [],
   "source": []
  },
  {
   "cell_type": "code",
   "execution_count": null,
   "metadata": {},
   "outputs": [],
   "source": []
  },
  {
   "cell_type": "code",
   "execution_count": null,
   "metadata": {},
   "outputs": [],
   "source": []
  },
  {
   "cell_type": "code",
   "execution_count": null,
   "metadata": {},
   "outputs": [],
   "source": []
  },
  {
   "cell_type": "code",
   "execution_count": null,
   "metadata": {},
   "outputs": [],
   "source": []
  },
  {
   "cell_type": "code",
   "execution_count": null,
   "metadata": {},
   "outputs": [],
   "source": []
  },
  {
   "cell_type": "code",
   "execution_count": null,
   "metadata": {},
   "outputs": [],
   "source": []
  },
  {
   "cell_type": "code",
   "execution_count": null,
   "metadata": {},
   "outputs": [],
   "source": []
  },
  {
   "cell_type": "code",
   "execution_count": null,
   "metadata": {},
   "outputs": [],
   "source": []
  },
  {
   "cell_type": "code",
   "execution_count": null,
   "metadata": {},
   "outputs": [],
   "source": []
  },
  {
   "cell_type": "code",
   "execution_count": null,
   "metadata": {},
   "outputs": [],
   "source": []
  },
  {
   "cell_type": "code",
   "execution_count": null,
   "metadata": {},
   "outputs": [],
   "source": []
  },
  {
   "cell_type": "code",
   "execution_count": null,
   "metadata": {},
   "outputs": [],
   "source": []
  },
  {
   "cell_type": "code",
   "execution_count": null,
   "metadata": {},
   "outputs": [],
   "source": []
  },
  {
   "cell_type": "code",
   "execution_count": null,
   "metadata": {},
   "outputs": [],
   "source": []
  }
 ],
 "metadata": {
  "kernelspec": {
   "display_name": "aiffel",
   "language": "python",
   "name": "aiffel"
  },
  "language_info": {
   "codemirror_mode": {
    "name": "ipython",
    "version": 3
   },
   "file_extension": ".py",
   "mimetype": "text/x-python",
   "name": "python",
   "nbconvert_exporter": "python",
   "pygments_lexer": "ipython3",
   "version": "3.7.9"
  }
 },
 "nbformat": 4,
 "nbformat_minor": 4
}
